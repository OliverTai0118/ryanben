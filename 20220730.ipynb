{
  "nbformat": 4,
  "nbformat_minor": 0,
  "metadata": {
    "colab": {
      "name": "20220730.ipynb",
      "provenance": [],
      "authorship_tag": "ABX9TyPG9TmCkp6TPzO/EglTzrHR",
      "include_colab_link": true
    },
    "kernelspec": {
      "name": "python3",
      "display_name": "Python 3"
    },
    "language_info": {
      "name": "python"
    }
  },
  "cells": [
    {
      "cell_type": "markdown",
      "metadata": {
        "id": "view-in-github",
        "colab_type": "text"
      },
      "source": [
        "<a href=\"https://colab.research.google.com/github/OliverTai0118/ryanben/blob/main/20220730.ipynb\" target=\"_parent\"><img src=\"https://colab.research.google.com/assets/colab-badge.svg\" alt=\"Open In Colab\"/></a>"
      ]
    },
    {
      "cell_type": "code",
      "source": [
        "!unzip model.zip"
      ],
      "metadata": {
        "colab": {
          "base_uri": "https://localhost:8080/"
        },
        "id": "WzWOW0rn4SPK",
        "outputId": "9ed2bf9e-1d5c-491c-9130-dcf07629c2d0"
      },
      "execution_count": null,
      "outputs": [
        {
          "output_type": "stream",
          "name": "stdout",
          "text": [
            "Archive:  model.zip\n",
            " extracting: keras_model.h5          \n",
            " extracting: labels.txt              \n"
          ]
        }
      ]
    },
    {
      "cell_type": "code",
      "execution_count": null,
      "metadata": {
        "colab": {
          "base_uri": "https://localhost:8080/"
        },
        "id": "16FZrJFKoYay",
        "outputId": "dd350cdd-7f26-4945-efd5-69f711c53f98"
      },
      "outputs": [
        {
          "output_type": "stream",
          "name": "stdout",
          "text": [
            "WARNING:tensorflow:No training configuration found in the save file, so the model was *not* compiled. Compile it manually.\n"
          ]
        },
        {
          "output_type": "stream",
          "name": "stderr",
          "text": [
            "WARNING:tensorflow:No training configuration found in the save file, so the model was *not* compiled. Compile it manually.\n"
          ]
        },
        {
          "output_type": "stream",
          "name": "stdout",
          "text": [
            "[[0.8482615  0.15173846]]\n"
          ]
        }
      ],
      "source": [
        "from keras.models import load_model\n",
        "from PIL import Image, ImageOps\n",
        "import numpy as np\n",
        "\n",
        "# Load the model\n",
        "model = load_model('keras_model.h5')\n",
        "\n",
        "# Create the array of the right shape to feed into the keras model\n",
        "# The 'length' or number of images you can put into the array is\n",
        "# determined by the first position in the shape tuple, in this case 1.\n",
        "data = np.ndarray(shape=(1, 224, 224, 3), dtype=np.float32)\n",
        "# Replace this with the path to your image\n",
        "image = Image.open('0730.jpg')\n",
        "#resize the image to a 224x224 with the same strategy as in TM2:\n",
        "#resizing the image to be at least 224x224 and then cropping from the center\n",
        "size = (224, 224)\n",
        "image = ImageOps.fit(image, size, Image.ANTIALIAS)\n",
        "\n",
        "#turn the image into a numpy array\n",
        "image_array = np.asarray(image)\n",
        "# Normalize the image\n",
        "normalized_image_array = (image_array.astype(np.float32) / 127.0) - 1\n",
        "# Load the image into the array\n",
        "data[0] = normalized_image_array\n",
        "\n",
        "# run the inference\n",
        "prediction = model.predict(data)\n",
        "print(prediction)"
      ]
    },
    {
      "cell_type": "markdown",
      "source": [
        "#使用Gradio打包上面的模型來使用"
      ],
      "metadata": {
        "id": "7xlkikbZ64Zf"
      }
    },
    {
      "cell_type": "code",
      "source": [
        "!pip install gradio"
      ],
      "metadata": {
        "colab": {
          "base_uri": "https://localhost:8080/"
        },
        "id": "D1EuxHRn6hgO",
        "outputId": "49efb885-bde4-4ef5-f43b-1f3b3a1d3a13"
      },
      "execution_count": null,
      "outputs": [
        {
          "output_type": "stream",
          "name": "stdout",
          "text": [
            "Looking in indexes: https://pypi.org/simple, https://us-python.pkg.dev/colab-wheels/public/simple/\n",
            "Collecting gradio\n",
            "  Downloading gradio-3.1.1-py3-none-any.whl (5.6 MB)\n",
            "\u001b[K     |████████████████████████████████| 5.6 MB 3.9 MB/s \n",
            "\u001b[?25hRequirement already satisfied: pillow in /usr/local/lib/python3.7/dist-packages (from gradio) (7.1.2)\n",
            "Requirement already satisfied: Jinja2 in /usr/local/lib/python3.7/dist-packages (from gradio) (2.11.3)\n",
            "Collecting fsspec\n",
            "  Downloading fsspec-2022.7.1-py3-none-any.whl (141 kB)\n",
            "\u001b[K     |████████████████████████████████| 141 kB 68.1 MB/s \n",
            "\u001b[?25hCollecting analytics-python\n",
            "  Downloading analytics_python-1.4.0-py2.py3-none-any.whl (15 kB)\n",
            "Collecting uvicorn\n",
            "  Downloading uvicorn-0.18.2-py3-none-any.whl (57 kB)\n",
            "\u001b[K     |████████████████████████████████| 57 kB 5.4 MB/s \n",
            "\u001b[?25hCollecting orjson\n",
            "  Downloading orjson-3.7.9-cp37-cp37m-manylinux_2_17_x86_64.manylinux2014_x86_64.whl (275 kB)\n",
            "\u001b[K     |████████████████████████████████| 275 kB 64.2 MB/s \n",
            "\u001b[?25hCollecting h11<0.13,>=0.11\n",
            "  Downloading h11-0.12.0-py3-none-any.whl (54 kB)\n",
            "\u001b[K     |████████████████████████████████| 54 kB 2.8 MB/s \n",
            "\u001b[?25hCollecting httpx\n",
            "  Downloading httpx-0.23.0-py3-none-any.whl (84 kB)\n",
            "\u001b[K     |████████████████████████████████| 84 kB 3.2 MB/s \n",
            "\u001b[?25hRequirement already satisfied: pandas in /usr/local/lib/python3.7/dist-packages (from gradio) (1.3.5)\n",
            "Collecting paramiko\n",
            "  Downloading paramiko-2.11.0-py2.py3-none-any.whl (212 kB)\n",
            "\u001b[K     |████████████████████████████████| 212 kB 63.9 MB/s \n",
            "\u001b[?25hRequirement already satisfied: requests in /usr/local/lib/python3.7/dist-packages (from gradio) (2.23.0)\n",
            "Requirement already satisfied: pydantic in /usr/local/lib/python3.7/dist-packages (from gradio) (1.9.1)\n",
            "Collecting python-multipart\n",
            "  Downloading python-multipart-0.0.5.tar.gz (32 kB)\n",
            "Requirement already satisfied: numpy in /usr/local/lib/python3.7/dist-packages (from gradio) (1.21.6)\n",
            "Collecting markdown-it-py[linkify,plugins]\n",
            "  Downloading markdown_it_py-2.1.0-py3-none-any.whl (84 kB)\n",
            "\u001b[K     |████████████████████████████████| 84 kB 3.3 MB/s \n",
            "\u001b[?25hCollecting pycryptodome\n",
            "  Downloading pycryptodome-3.15.0-cp35-abi3-manylinux2010_x86_64.whl (2.3 MB)\n",
            "\u001b[K     |████████████████████████████████| 2.3 MB 44.5 MB/s \n",
            "\u001b[?25hCollecting fastapi\n",
            "  Downloading fastapi-0.79.0-py3-none-any.whl (54 kB)\n",
            "\u001b[K     |████████████████████████████████| 54 kB 3.4 MB/s \n",
            "\u001b[?25hRequirement already satisfied: matplotlib in /usr/local/lib/python3.7/dist-packages (from gradio) (3.2.2)\n",
            "Collecting pydub\n",
            "  Downloading pydub-0.25.1-py2.py3-none-any.whl (32 kB)\n",
            "Collecting ffmpy\n",
            "  Downloading ffmpy-0.3.0.tar.gz (4.8 kB)\n",
            "Requirement already satisfied: aiohttp in /usr/local/lib/python3.7/dist-packages (from gradio) (3.8.1)\n",
            "Requirement already satisfied: aiosignal>=1.1.2 in /usr/local/lib/python3.7/dist-packages (from aiohttp->gradio) (1.2.0)\n",
            "Requirement already satisfied: asynctest==0.13.0 in /usr/local/lib/python3.7/dist-packages (from aiohttp->gradio) (0.13.0)\n",
            "Requirement already satisfied: async-timeout<5.0,>=4.0.0a3 in /usr/local/lib/python3.7/dist-packages (from aiohttp->gradio) (4.0.2)\n",
            "Requirement already satisfied: yarl<2.0,>=1.0 in /usr/local/lib/python3.7/dist-packages (from aiohttp->gradio) (1.7.2)\n",
            "Requirement already satisfied: charset-normalizer<3.0,>=2.0 in /usr/local/lib/python3.7/dist-packages (from aiohttp->gradio) (2.1.0)\n",
            "Requirement already satisfied: typing-extensions>=3.7.4 in /usr/local/lib/python3.7/dist-packages (from aiohttp->gradio) (4.1.1)\n",
            "Requirement already satisfied: attrs>=17.3.0 in /usr/local/lib/python3.7/dist-packages (from aiohttp->gradio) (21.4.0)\n",
            "Requirement already satisfied: frozenlist>=1.1.1 in /usr/local/lib/python3.7/dist-packages (from aiohttp->gradio) (1.3.0)\n",
            "Requirement already satisfied: multidict<7.0,>=4.5 in /usr/local/lib/python3.7/dist-packages (from aiohttp->gradio) (6.0.2)\n",
            "Requirement already satisfied: idna>=2.0 in /usr/local/lib/python3.7/dist-packages (from yarl<2.0,>=1.0->aiohttp->gradio) (2.10)\n",
            "Collecting backoff==1.10.0\n",
            "  Downloading backoff-1.10.0-py2.py3-none-any.whl (31 kB)\n",
            "Requirement already satisfied: six>=1.5 in /usr/local/lib/python3.7/dist-packages (from analytics-python->gradio) (1.15.0)\n",
            "Requirement already satisfied: python-dateutil>2.1 in /usr/local/lib/python3.7/dist-packages (from analytics-python->gradio) (2.8.2)\n",
            "Collecting monotonic>=1.5\n",
            "  Downloading monotonic-1.6-py2.py3-none-any.whl (8.2 kB)\n",
            "Requirement already satisfied: certifi>=2017.4.17 in /usr/local/lib/python3.7/dist-packages (from requests->gradio) (2022.6.15)\n",
            "Requirement already satisfied: chardet<4,>=3.0.2 in /usr/local/lib/python3.7/dist-packages (from requests->gradio) (3.0.4)\n",
            "Requirement already satisfied: urllib3!=1.25.0,!=1.25.1,<1.26,>=1.21.1 in /usr/local/lib/python3.7/dist-packages (from requests->gradio) (1.24.3)\n",
            "Collecting starlette==0.19.1\n",
            "  Downloading starlette-0.19.1-py3-none-any.whl (63 kB)\n",
            "\u001b[K     |████████████████████████████████| 63 kB 1.7 MB/s \n",
            "\u001b[?25hCollecting anyio<5,>=3.4.0\n",
            "  Downloading anyio-3.6.1-py3-none-any.whl (80 kB)\n",
            "\u001b[K     |████████████████████████████████| 80 kB 8.7 MB/s \n",
            "\u001b[?25hCollecting sniffio>=1.1\n",
            "  Downloading sniffio-1.2.0-py3-none-any.whl (10 kB)\n",
            "Collecting httpcore<0.16.0,>=0.15.0\n",
            "  Downloading httpcore-0.15.0-py3-none-any.whl (68 kB)\n",
            "\u001b[K     |████████████████████████████████| 68 kB 6.0 MB/s \n",
            "\u001b[?25hCollecting rfc3986[idna2008]<2,>=1.3\n",
            "  Downloading rfc3986-1.5.0-py2.py3-none-any.whl (31 kB)\n",
            "Requirement already satisfied: MarkupSafe>=0.23 in /usr/local/lib/python3.7/dist-packages (from Jinja2->gradio) (2.0.1)\n",
            "Collecting mdurl~=0.1\n",
            "  Downloading mdurl-0.1.1-py3-none-any.whl (10 kB)\n",
            "Collecting mdit-py-plugins\n",
            "  Downloading mdit_py_plugins-0.3.0-py3-none-any.whl (43 kB)\n",
            "\u001b[K     |████████████████████████████████| 43 kB 1.9 MB/s \n",
            "\u001b[?25hCollecting linkify-it-py~=1.0\n",
            "  Downloading linkify_it_py-1.0.3-py3-none-any.whl (19 kB)\n",
            "Collecting uc-micro-py\n",
            "  Downloading uc_micro_py-1.0.1-py3-none-any.whl (6.2 kB)\n",
            "Requirement already satisfied: pyparsing!=2.0.4,!=2.1.2,!=2.1.6,>=2.0.1 in /usr/local/lib/python3.7/dist-packages (from matplotlib->gradio) (3.0.9)\n",
            "Requirement already satisfied: kiwisolver>=1.0.1 in /usr/local/lib/python3.7/dist-packages (from matplotlib->gradio) (1.4.4)\n",
            "Requirement already satisfied: cycler>=0.10 in /usr/local/lib/python3.7/dist-packages (from matplotlib->gradio) (0.11.0)\n",
            "Requirement already satisfied: pytz>=2017.3 in /usr/local/lib/python3.7/dist-packages (from pandas->gradio) (2022.1)\n",
            "Collecting cryptography>=2.5\n",
            "  Downloading cryptography-37.0.4-cp36-abi3-manylinux_2_24_x86_64.whl (4.1 MB)\n",
            "\u001b[K     |████████████████████████████████| 4.1 MB 43.8 MB/s \n",
            "\u001b[?25hCollecting bcrypt>=3.1.3\n",
            "  Downloading bcrypt-3.2.2-cp36-abi3-manylinux_2_17_x86_64.manylinux2014_x86_64.manylinux_2_24_x86_64.whl (62 kB)\n",
            "\u001b[K     |████████████████████████████████| 62 kB 901 kB/s \n",
            "\u001b[?25hCollecting pynacl>=1.0.1\n",
            "  Downloading PyNaCl-1.5.0-cp36-abi3-manylinux_2_17_x86_64.manylinux2014_x86_64.manylinux_2_24_x86_64.whl (856 kB)\n",
            "\u001b[K     |████████████████████████████████| 856 kB 47.5 MB/s \n",
            "\u001b[?25hRequirement already satisfied: cffi>=1.1 in /usr/local/lib/python3.7/dist-packages (from bcrypt>=3.1.3->paramiko->gradio) (1.15.1)\n",
            "Requirement already satisfied: pycparser in /usr/local/lib/python3.7/dist-packages (from cffi>=1.1->bcrypt>=3.1.3->paramiko->gradio) (2.21)\n",
            "Requirement already satisfied: click>=7.0 in /usr/local/lib/python3.7/dist-packages (from uvicorn->gradio) (7.1.2)\n",
            "Building wheels for collected packages: ffmpy, python-multipart\n",
            "  Building wheel for ffmpy (setup.py) ... \u001b[?25l\u001b[?25hdone\n",
            "  Created wheel for ffmpy: filename=ffmpy-0.3.0-py3-none-any.whl size=4712 sha256=b313b53c7d4c0ba25d2ce8a73a7ea1f169e9c3362f4bd107e3abc15ea8334031\n",
            "  Stored in directory: /root/.cache/pip/wheels/13/e4/6c/e8059816e86796a597c6e6b0d4c880630f51a1fcfa0befd5e6\n",
            "  Building wheel for python-multipart (setup.py) ... \u001b[?25l\u001b[?25hdone\n",
            "  Created wheel for python-multipart: filename=python_multipart-0.0.5-py3-none-any.whl size=31678 sha256=78dfa98d0a6ab4c2e87f0301051842655d5d363f597b3b11fa81197b748df808\n",
            "  Stored in directory: /root/.cache/pip/wheels/2c/41/7c/bfd1c180534ffdcc0972f78c5758f89881602175d48a8bcd2c\n",
            "Successfully built ffmpy python-multipart\n",
            "Installing collected packages: sniffio, mdurl, uc-micro-py, rfc3986, markdown-it-py, h11, anyio, starlette, pynacl, monotonic, mdit-py-plugins, linkify-it-py, httpcore, cryptography, bcrypt, backoff, uvicorn, python-multipart, pydub, pycryptodome, paramiko, orjson, httpx, fsspec, ffmpy, fastapi, analytics-python, gradio\n",
            "Successfully installed analytics-python-1.4.0 anyio-3.6.1 backoff-1.10.0 bcrypt-3.2.2 cryptography-37.0.4 fastapi-0.79.0 ffmpy-0.3.0 fsspec-2022.7.1 gradio-3.1.1 h11-0.12.0 httpcore-0.15.0 httpx-0.23.0 linkify-it-py-1.0.3 markdown-it-py-2.1.0 mdit-py-plugins-0.3.0 mdurl-0.1.1 monotonic-1.6 orjson-3.7.9 paramiko-2.11.0 pycryptodome-3.15.0 pydub-0.25.1 pynacl-1.5.0 python-multipart-0.0.5 rfc3986-1.5.0 sniffio-1.2.0 starlette-0.19.1 uc-micro-py-1.0.1 uvicorn-0.18.2\n"
          ]
        }
      ]
    },
    {
      "cell_type": "code",
      "source": [
        "import random"
      ],
      "metadata": {
        "id": "2OrSKcGxAiO9"
      },
      "execution_count": null,
      "outputs": []
    },
    {
      "cell_type": "code",
      "source": [
        "def classify(image):\n",
        "  # Load the model\n",
        "  model = load_model('keras_model.h5')\n",
        "  image.save(f\"{random.randint(0, 10000):05}.jpg\")\n",
        "  # Create the array of the right shape to feed into the keras model\n",
        "  # The 'length' or number of images you can put into the array is\n",
        "  # determined by the first position in the shape tuple, in this case 1.\n",
        "  data = np.ndarray(shape=(1, 224, 224, 3), dtype=np.float32)\n",
        "  #resize the image to a 224x224 with the same strategy as in TM2:\n",
        "  #resizing the image to be at least 224x224 and then cropping from the center\n",
        "  size = (224, 224)\n",
        "  image = ImageOps.fit(image, size, Image.ANTIALIAS)\n",
        "\n",
        "  #turn the image into a numpy array\n",
        "  image_array = np.asarray(image)\n",
        "  # Normalize the image\n",
        "  normalized_image_array = (image_array.astype(np.float32) / 127.0) - 1\n",
        "  # Load the image into the array\n",
        "  data[0] = normalized_image_array\n",
        "\n",
        "  # run the inference\n",
        "  prediction = model.predict(data)\n",
        "  labels = [\"戴著口罩的Oliver\", \"沒有戴口罩的Oliver\"]\n",
        "  return labels[np.argmax(prediction)]"
      ],
      "metadata": {
        "id": "Pnnig-AK6HUC"
      },
      "execution_count": null,
      "outputs": []
    },
    {
      "cell_type": "code",
      "source": [
        "import gradio as gr"
      ],
      "metadata": {
        "id": "cZlBwFAU7jgv"
      },
      "execution_count": null,
      "outputs": []
    },
    {
      "cell_type": "code",
      "source": [
        "gr.Interface(classify, inputs=gr.Image(type=\"pil\"), outputs=\"text\").launch(share=True)"
      ],
      "metadata": {
        "colab": {
          "base_uri": "https://localhost:8080/",
          "height": 663
        },
        "id": "RPLcJyYM7oNc",
        "outputId": "2959e17c-4ceb-4b44-8c0e-3c0d5ee5833b"
      },
      "execution_count": null,
      "outputs": [
        {
          "output_type": "stream",
          "name": "stdout",
          "text": [
            "Colab notebook detected. To show errors in colab notebook, set `debug=True` in `launch()`\n",
            "Running on public URL: https://58177.gradio.app\n",
            "\n",
            "This share link expires in 72 hours. For free permanent hosting, check out Spaces: https://huggingface.co/spaces\n"
          ]
        },
        {
          "output_type": "display_data",
          "data": {
            "text/plain": [
              "<IPython.core.display.HTML object>"
            ],
            "text/html": [
              "<div><iframe src=\"https://58177.gradio.app\" width=\"900\" height=\"500\" allow=\"autoplay; camera; microphone;\" frameborder=\"0\" allowfullscreen></iframe></div>"
            ]
          },
          "metadata": {}
        },
        {
          "output_type": "execute_result",
          "data": {
            "text/plain": [
              "(<gradio.routes.App at 0x7f37d399da50>,\n",
              " 'http://127.0.0.1:7865/',\n",
              " 'https://58177.gradio.app')"
            ]
          },
          "metadata": {},
          "execution_count": 30
        }
      ]
    },
    {
      "cell_type": "code",
      "source": [
        "x=[1,2,3]"
      ],
      "metadata": {
        "id": "wnPrPWfbFMDz"
      },
      "execution_count": null,
      "outputs": []
    },
    {
      "cell_type": "code",
      "source": [
        "np.argmax(x)"
      ],
      "metadata": {
        "colab": {
          "base_uri": "https://localhost:8080/"
        },
        "id": "Jo2gj10kFZhH",
        "outputId": "44dc073d-85e7-4599-a394-df49ea47c9ef"
      },
      "execution_count": null,
      "outputs": [
        {
          "output_type": "execute_result",
          "data": {
            "text/plain": [
              "2"
            ]
          },
          "metadata": {},
          "execution_count": 32
        }
      ]
    },
    {
      "cell_type": "code",
      "source": [
        "x[2]"
      ],
      "metadata": {
        "colab": {
          "base_uri": "https://localhost:8080/"
        },
        "id": "Q4oadoBuFenr",
        "outputId": "e76355a4-2f98-4a90-babd-fa04c6f20791"
      },
      "execution_count": null,
      "outputs": [
        {
          "output_type": "execute_result",
          "data": {
            "text/plain": [
              "3"
            ]
          },
          "metadata": {},
          "execution_count": 33
        }
      ]
    },
    {
      "cell_type": "markdown",
      "source": [
        "## 練習\n",
        "\n",
        "輸出0-15的二進位及十六進位數值"
      ],
      "metadata": {
        "id": "6O-9bnO2GNec"
      }
    },
    {
      "cell_type": "code",
      "source": [
        "for i in range(16):\n",
        "  print(f\"{i:02}的二進位是:{i:04b}\")"
      ],
      "metadata": {
        "colab": {
          "base_uri": "https://localhost:8080/"
        },
        "id": "guSQFpvHGa2R",
        "outputId": "31a0ae62-7e3e-4deb-8c08-6f665af594eb"
      },
      "execution_count": null,
      "outputs": [
        {
          "output_type": "stream",
          "name": "stdout",
          "text": [
            "00的二進位是:0000\n",
            "01的二進位是:0001\n",
            "02的二進位是:0010\n",
            "03的二進位是:0011\n",
            "04的二進位是:0100\n",
            "05的二進位是:0101\n",
            "06的二進位是:0110\n",
            "07的二進位是:0111\n",
            "08的二進位是:1000\n",
            "09的二進位是:1001\n",
            "10的二進位是:1010\n",
            "11的二進位是:1011\n",
            "12的二進位是:1100\n",
            "13的二進位是:1101\n",
            "14的二進位是:1110\n",
            "15的二進位是:1111\n"
          ]
        }
      ]
    },
    {
      "cell_type": "markdown",
      "source": [
        "# Scikit-Learn簡介"
      ],
      "metadata": {
        "id": "TNVcrqzVfEbH"
      }
    },
    {
      "cell_type": "markdown",
      "source": [
        "## 載入資料集"
      ],
      "metadata": {
        "id": "HBPuP8tDk-di"
      }
    },
    {
      "cell_type": "code",
      "source": [
        "from sklearn import datasets"
      ],
      "metadata": {
        "id": "zrvCAX8SlFI9"
      },
      "execution_count": 46,
      "outputs": []
    },
    {
      "cell_type": "code",
      "source": [
        "iris=datasets.load_iris()"
      ],
      "metadata": {
        "id": "zN172CxUk9B_"
      },
      "execution_count": 50,
      "outputs": []
    },
    {
      "cell_type": "code",
      "source": [
        "iris.feature_names"
      ],
      "metadata": {
        "colab": {
          "base_uri": "https://localhost:8080/"
        },
        "id": "lrmcl7nTlT-s",
        "outputId": "c41d9c14-4ee3-49a5-d154-58ca756bbb75"
      },
      "execution_count": 51,
      "outputs": [
        {
          "output_type": "execute_result",
          "data": {
            "text/plain": [
              "['sepal length (cm)',\n",
              " 'sepal width (cm)',\n",
              " 'petal length (cm)',\n",
              " 'petal width (cm)']"
            ]
          },
          "metadata": {},
          "execution_count": 51
        }
      ]
    },
    {
      "cell_type": "code",
      "source": [
        "iris.target_names"
      ],
      "metadata": {
        "colab": {
          "base_uri": "https://localhost:8080/"
        },
        "id": "r1-PGLjHlaYq",
        "outputId": "62f75c31-6574-4b41-df16-2b678f60b98e"
      },
      "execution_count": 53,
      "outputs": [
        {
          "output_type": "execute_result",
          "data": {
            "text/plain": [
              "array(['setosa', 'versicolor', 'virginica'], dtype='<U10')"
            ]
          },
          "metadata": {},
          "execution_count": 53
        }
      ]
    },
    {
      "cell_type": "code",
      "source": [
        "from os import XATTR_REPLACE\n",
        "X=iris.data"
      ],
      "metadata": {
        "id": "JnxkZoH3ltyX"
      },
      "execution_count": 65,
      "outputs": []
    },
    {
      "cell_type": "code",
      "source": [
        "y=iris.target"
      ],
      "metadata": {
        "id": "XFt8aip2lxz6"
      },
      "execution_count": 66,
      "outputs": []
    },
    {
      "cell_type": "code",
      "source": [
        "type(X)"
      ],
      "metadata": {
        "colab": {
          "base_uri": "https://localhost:8080/"
        },
        "id": "ZW_SbiMwl2B9",
        "outputId": "99c13149-d2fd-4a48-b88d-627a6e0c1055"
      },
      "execution_count": 67,
      "outputs": [
        {
          "output_type": "execute_result",
          "data": {
            "text/plain": [
              "numpy.ndarray"
            ]
          },
          "metadata": {},
          "execution_count": 67
        }
      ]
    },
    {
      "cell_type": "code",
      "source": [
        "X[0]"
      ],
      "metadata": {
        "colab": {
          "base_uri": "https://localhost:8080/"
        },
        "id": "r4nSN22rl4az",
        "outputId": "2ca09122-c851-4127-deca-af5d77dcda28"
      },
      "execution_count": 68,
      "outputs": [
        {
          "output_type": "execute_result",
          "data": {
            "text/plain": [
              "array([5.1, 3.5, 1.4, 0.2])"
            ]
          },
          "metadata": {},
          "execution_count": 68
        }
      ]
    },
    {
      "cell_type": "code",
      "source": [
        "y[0]"
      ],
      "metadata": {
        "colab": {
          "base_uri": "https://localhost:8080/"
        },
        "id": "tKD5syghmBZr",
        "outputId": "84a7211f-33ab-4d08-f97b-6ee0bddb6fc2"
      },
      "execution_count": 61,
      "outputs": [
        {
          "output_type": "execute_result",
          "data": {
            "text/plain": [
              "0"
            ]
          },
          "metadata": {},
          "execution_count": 61
        }
      ]
    },
    {
      "cell_type": "code",
      "source": [
        "y"
      ],
      "metadata": {
        "colab": {
          "base_uri": "https://localhost:8080/"
        },
        "id": "dooUYw46mqTu",
        "outputId": "f5a4a56d-8902-459e-8e5c-14eab5a7e6d5"
      },
      "execution_count": 62,
      "outputs": [
        {
          "output_type": "execute_result",
          "data": {
            "text/plain": [
              "array([0, 0, 0, 0, 0, 0, 0, 0, 0, 0, 0, 0, 0, 0, 0, 0, 0, 0, 0, 0, 0, 0,\n",
              "       0, 0, 0, 0, 0, 0, 0, 0, 0, 0, 0, 0, 0, 0, 0, 0, 0, 0, 0, 0, 0, 0,\n",
              "       0, 0, 0, 0, 0, 0, 1, 1, 1, 1, 1, 1, 1, 1, 1, 1, 1, 1, 1, 1, 1, 1,\n",
              "       1, 1, 1, 1, 1, 1, 1, 1, 1, 1, 1, 1, 1, 1, 1, 1, 1, 1, 1, 1, 1, 1,\n",
              "       1, 1, 1, 1, 1, 1, 1, 1, 1, 1, 1, 1, 2, 2, 2, 2, 2, 2, 2, 2, 2, 2,\n",
              "       2, 2, 2, 2, 2, 2, 2, 2, 2, 2, 2, 2, 2, 2, 2, 2, 2, 2, 2, 2, 2, 2,\n",
              "       2, 2, 2, 2, 2, 2, 2, 2, 2, 2, 2, 2, 2, 2, 2, 2, 2, 2])"
            ]
          },
          "metadata": {},
          "execution_count": 62
        }
      ]
    },
    {
      "cell_type": "code",
      "source": [
        "len(x)"
      ],
      "metadata": {
        "colab": {
          "base_uri": "https://localhost:8080/"
        },
        "id": "KiDRpqs9m_tz",
        "outputId": "e0af00cb-4e5e-4237-b11a-f45cf412fa5d"
      },
      "execution_count": 63,
      "outputs": [
        {
          "output_type": "execute_result",
          "data": {
            "text/plain": [
              "150"
            ]
          },
          "metadata": {},
          "execution_count": 63
        }
      ]
    },
    {
      "cell_type": "markdown",
      "source": [
        "## 拆分訓練集跟測試集"
      ],
      "metadata": {
        "id": "XyVT7uK0muin"
      }
    },
    {
      "cell_type": "code",
      "source": [
        "from sklearn.model_selection import train_test_split"
      ],
      "metadata": {
        "id": "qEtJ2wlMnOt_"
      },
      "execution_count": 64,
      "outputs": []
    },
    {
      "cell_type": "code",
      "source": [
        "X_train, X_test, y_train, y_test = train_test_split(X, y, test_size=0.2)"
      ],
      "metadata": {
        "id": "pRKdK2ntnxS1"
      },
      "execution_count": 70,
      "outputs": []
    },
    {
      "cell_type": "markdown",
      "source": [
        "## 使用SVM來做分類"
      ],
      "metadata": {
        "id": "AIrW5N_qonsx"
      }
    },
    {
      "cell_type": "code",
      "source": [
        "#1. 載入模型\n",
        "from sklearn.svm import SVC"
      ],
      "metadata": {
        "id": "Cjx3936VotBg"
      },
      "execution_count": 71,
      "outputs": []
    },
    {
      "cell_type": "code",
      "source": [
        "#2. 建立模型\n",
        "clf=SVC()"
      ],
      "metadata": {
        "id": "Etb549wioweK"
      },
      "execution_count": 72,
      "outputs": []
    },
    {
      "cell_type": "code",
      "source": [
        "#3. 訓練模型\n",
        "clf.fit(X_train,y_train)"
      ],
      "metadata": {
        "colab": {
          "base_uri": "https://localhost:8080/"
        },
        "id": "6Cst3-CLo0QA",
        "outputId": "720e2575-de1a-4c8b-a2ea-98a45e95c108"
      },
      "execution_count": 83,
      "outputs": [
        {
          "output_type": "execute_result",
          "data": {
            "text/plain": [
              "SVC()"
            ]
          },
          "metadata": {},
          "execution_count": 83
        }
      ]
    },
    {
      "cell_type": "code",
      "source": [
        "# 計算模型準確度(Accuracy)\n",
        "clf.score(X_test, y_test)"
      ],
      "metadata": {
        "colab": {
          "base_uri": "https://localhost:8080/"
        },
        "id": "-rpOGhLxo3hX",
        "outputId": "46f87311-baf4-48a3-f3ef-0e79181e4851"
      },
      "execution_count": 84,
      "outputs": [
        {
          "output_type": "execute_result",
          "data": {
            "text/plain": [
              "1.0"
            ]
          },
          "metadata": {},
          "execution_count": 84
        }
      ]
    },
    {
      "cell_type": "code",
      "source": [
        "#4. 使用模型"
      ],
      "metadata": {
        "id": "6OS2b7xqo9UW"
      },
      "execution_count": null,
      "outputs": []
    },
    {
      "cell_type": "code",
      "source": [
        "clf.predict(X_test)"
      ],
      "metadata": {
        "colab": {
          "base_uri": "https://localhost:8080/"
        },
        "id": "YwVQxVXDv7Qn",
        "outputId": "98824c2f-d488-4f43-9ab3-58c3b3c13409"
      },
      "execution_count": 85,
      "outputs": [
        {
          "output_type": "execute_result",
          "data": {
            "text/plain": [
              "array([2, 1, 0, 2, 0, 2, 0, 1, 1, 1, 2, 1, 1, 1, 1, 0, 1, 1, 0, 0, 2, 1,\n",
              "       0, 0, 2, 0, 0, 1, 1, 0])"
            ]
          },
          "metadata": {},
          "execution_count": 85
        }
      ]
    },
    {
      "cell_type": "markdown",
      "source": [
        "## 資料集\n",
        "* https://archive.ics.uci.edu/ml/datasets.php"
      ],
      "metadata": {
        "id": "Ow9y0VzFs2tH"
      }
    },
    {
      "cell_type": "markdown",
      "source": [
        "## 使用 Random Forest 來做分類\n",
        "*https://scikit-learn.org/stable/modules/generated/sklearn.ensemble.RandomForestClassifier.html"
      ],
      "metadata": {
        "id": "kmuIVCfBwHWL"
      }
    },
    {
      "cell_type": "code",
      "source": [
        "#1. 載入模型\n",
        "from sklearn.ensemble import RandomForestClassifier"
      ],
      "metadata": {
        "id": "bhiLWhFZzXTp"
      },
      "execution_count": 91,
      "outputs": []
    },
    {
      "cell_type": "code",
      "source": [
        "# 2. 建立模型\n",
        "clf = RandomForestClassifier()"
      ],
      "metadata": {
        "id": "glg-rxJEz8pq"
      },
      "execution_count": 92,
      "outputs": []
    },
    {
      "cell_type": "code",
      "source": [
        "# 3. 訓練模型\n",
        "clf.fit(X_train, y_train)"
      ],
      "metadata": {
        "colab": {
          "base_uri": "https://localhost:8080/"
        },
        "id": "bvOkVVFF0E46",
        "outputId": "8785b679-5c87-4466-e3ec-bfeafaff9409"
      },
      "execution_count": 93,
      "outputs": [
        {
          "output_type": "execute_result",
          "data": {
            "text/plain": [
              "RandomForestClassifier()"
            ]
          },
          "metadata": {},
          "execution_count": 93
        }
      ]
    },
    {
      "cell_type": "code",
      "source": [
        "# 計算模型準確度 (Accuracy)\n",
        "clf.score(X_test, y_test)"
      ],
      "metadata": {
        "colab": {
          "base_uri": "https://localhost:8080/"
        },
        "id": "viJyDwbp0SF7",
        "outputId": "2bf6f0f7-d86b-4bdf-de30-2fb5ed088581"
      },
      "execution_count": 94,
      "outputs": [
        {
          "output_type": "execute_result",
          "data": {
            "text/plain": [
              "1.0"
            ]
          },
          "metadata": {},
          "execution_count": 94
        }
      ]
    },
    {
      "cell_type": "markdown",
      "source": [
        "## 使用Mediapipe 畫出手的關節點"
      ],
      "metadata": {
        "id": "eoc3VMHwAu6G"
      }
    },
    {
      "cell_type": "code",
      "source": [
        "!pip install mediapipe"
      ],
      "metadata": {
        "colab": {
          "base_uri": "https://localhost:8080/"
        },
        "id": "sbmqP3m0A_qi",
        "outputId": "124be678-55a2-4eee-cdcc-748a33fa73dc"
      },
      "execution_count": 95,
      "outputs": [
        {
          "output_type": "stream",
          "name": "stdout",
          "text": [
            "Looking in indexes: https://pypi.org/simple, https://us-python.pkg.dev/colab-wheels/public/simple/\n",
            "Collecting mediapipe\n",
            "  Downloading mediapipe-0.8.10.1-cp37-cp37m-manylinux_2_17_x86_64.manylinux2014_x86_64.whl (32.9 MB)\n",
            "\u001b[K     |████████████████████████████████| 32.9 MB 54.6 MB/s \n",
            "\u001b[?25hRequirement already satisfied: matplotlib in /usr/local/lib/python3.7/dist-packages (from mediapipe) (3.2.2)\n",
            "Requirement already satisfied: protobuf<4,>=3.11 in /usr/local/lib/python3.7/dist-packages (from mediapipe) (3.17.3)\n",
            "Requirement already satisfied: absl-py in /usr/local/lib/python3.7/dist-packages (from mediapipe) (1.2.0)\n",
            "Requirement already satisfied: attrs>=19.1.0 in /usr/local/lib/python3.7/dist-packages (from mediapipe) (21.4.0)\n",
            "Requirement already satisfied: opencv-contrib-python in /usr/local/lib/python3.7/dist-packages (from mediapipe) (4.6.0.66)\n",
            "Requirement already satisfied: numpy in /usr/local/lib/python3.7/dist-packages (from mediapipe) (1.21.6)\n",
            "Requirement already satisfied: six>=1.9 in /usr/local/lib/python3.7/dist-packages (from protobuf<4,>=3.11->mediapipe) (1.15.0)\n",
            "Requirement already satisfied: kiwisolver>=1.0.1 in /usr/local/lib/python3.7/dist-packages (from matplotlib->mediapipe) (1.4.4)\n",
            "Requirement already satisfied: pyparsing!=2.0.4,!=2.1.2,!=2.1.6,>=2.0.1 in /usr/local/lib/python3.7/dist-packages (from matplotlib->mediapipe) (3.0.9)\n",
            "Requirement already satisfied: cycler>=0.10 in /usr/local/lib/python3.7/dist-packages (from matplotlib->mediapipe) (0.11.0)\n",
            "Requirement already satisfied: python-dateutil>=2.1 in /usr/local/lib/python3.7/dist-packages (from matplotlib->mediapipe) (2.8.2)\n",
            "Requirement already satisfied: typing-extensions in /usr/local/lib/python3.7/dist-packages (from kiwisolver>=1.0.1->matplotlib->mediapipe) (4.1.1)\n",
            "Installing collected packages: mediapipe\n",
            "Successfully installed mediapipe-0.8.10.1\n"
          ]
        }
      ]
    },
    {
      "cell_type": "code",
      "source": [
        "import cv2\n",
        "import mediapipe as mp\n",
        "mp_drawing = mp.solutions.drawing_utils\n",
        "mp_drawing_styles = mp.solutions.drawing_styles\n",
        "mp_hands = mp.solutions.hands\n",
        "\n",
        "# For static images:\n",
        "IMAGE_FILES = ['myhand.jpg']\n",
        "with mp_hands.Hands(\n",
        "    static_image_mode=True,\n",
        "    max_num_hands=2,\n",
        "    min_detection_confidence=0.5) as hands:\n",
        "  for idx, file in enumerate(IMAGE_FILES):\n",
        "    # Read an image, flip it around y-axis for correct handedness output (see\n",
        "    # above).\n",
        "    image = cv2.flip(cv2.imread(file), 1)\n",
        "    # Convert the BGR image to RGB before processing.\n",
        "    results = hands.process(cv2.cvtColor(image, cv2.COLOR_BGR2RGB))\n",
        "\n",
        "    # Print handedness and draw hand landmarks on the image.\n",
        "    print('Handedness:', results.multi_handedness)\n",
        "    if not results.multi_hand_landmarks:\n",
        "      continue\n",
        "    image_height, image_width, _ = image.shape\n",
        "    annotated_image = image.copy()\n",
        "    for hand_landmarks in results.multi_hand_landmarks:\n",
        "      print('hand_landmarks:', hand_landmarks)\n",
        "      print(\n",
        "          f'Index finger tip coordinates: (',\n",
        "          f'{hand_landmarks.landmark[mp_hands.HandLandmark.INDEX_FINGER_TIP].x * image_width}, '\n",
        "          f'{hand_landmarks.landmark[mp_hands.HandLandmark.INDEX_FINGER_TIP].y * image_height})'\n",
        "      )\n",
        "      mp_drawing.draw_landmarks(\n",
        "          annotated_image,\n",
        "          hand_landmarks,\n",
        "          mp_hands.HAND_CONNECTIONS,\n",
        "          mp_drawing_styles.get_default_hand_landmarks_style(),\n",
        "          mp_drawing_styles.get_default_hand_connections_style())\n",
        "    cv2.imwrite(\n",
        "        'my.hand' + str(idx) + '.png', cv2.flip(annotated_image, 1))\n",
        "    # Draw hand world landmarks.\n",
        "    if not results.multi_hand_world_landmarks:\n",
        "      continue\n",
        "    for hand_world_landmarks in results.multi_hand_world_landmarks:\n",
        "      mp_drawing.plot_landmarks(\n",
        "        hand_world_landmarks, mp_hands.HAND_CONNECTIONS, azimuth=5)"
      ],
      "metadata": {
        "colab": {
          "base_uri": "https://localhost:8080/",
          "height": 1000
        },
        "id": "6o1m99MzA5zT",
        "outputId": "540c19b8-06af-41fe-84c2-0093cb5d5e20"
      },
      "execution_count": 98,
      "outputs": [
        {
          "output_type": "stream",
          "name": "stdout",
          "text": [
            "Handedness: [classification {\n",
            "  index: 0\n",
            "  score: 0.8690059781074524\n",
            "  label: \"Left\"\n",
            "}\n",
            "]\n",
            "hand_landmarks: landmark {\n",
            "  x: 0.4176660478115082\n",
            "  y: 1.0099971294403076\n",
            "  z: 1.3852278470949386e-06\n",
            "}\n",
            "landmark {\n",
            "  x: 0.6212580800056458\n",
            "  y: 0.9429738521575928\n",
            "  z: 0.030143626034259796\n",
            "}\n",
            "landmark {\n",
            "  x: 0.7109799981117249\n",
            "  y: 0.869929313659668\n",
            "  z: 0.0919879600405693\n",
            "}\n",
            "landmark {\n",
            "  x: 0.7724891901016235\n",
            "  y: 0.812267005443573\n",
            "  z: 0.13601095974445343\n",
            "}\n",
            "landmark {\n",
            "  x: 0.8344024419784546\n",
            "  y: 0.7737277150154114\n",
            "  z: 0.18539628386497498\n",
            "}\n",
            "landmark {\n",
            "  x: 0.5442676544189453\n",
            "  y: 0.6939589381217957\n",
            "  z: 0.2411486804485321\n",
            "}\n",
            "landmark {\n",
            "  x: 0.5987870097160339\n",
            "  y: 0.5941686630249023\n",
            "  z: 0.31602853536605835\n",
            "}\n",
            "landmark {\n",
            "  x: 0.6359415054321289\n",
            "  y: 0.5277794003486633\n",
            "  z: 0.35836848616600037\n",
            "}\n",
            "landmark {\n",
            "  x: 0.6585250496864319\n",
            "  y: 0.4855431318283081\n",
            "  z: 0.3893374502658844\n",
            "}\n",
            "landmark {\n",
            "  x: 0.4396251142024994\n",
            "  y: 0.6800265312194824\n",
            "  z: 0.22703039646148682\n",
            "}\n",
            "landmark {\n",
            "  x: 0.4533071219921112\n",
            "  y: 0.5479100942611694\n",
            "  z: 0.3192516565322876\n",
            "}\n",
            "landmark {\n",
            "  x: 0.4645560681819916\n",
            "  y: 0.47035232186317444\n",
            "  z: 0.37613222002983093\n",
            "}\n",
            "landmark {\n",
            "  x: 0.47071248292922974\n",
            "  y: 0.41531604528427124\n",
            "  z: 0.42341384291648865\n",
            "}\n",
            "landmark {\n",
            "  x: 0.35103005170822144\n",
            "  y: 0.6837488412857056\n",
            "  z: 0.19283045828342438\n",
            "}\n",
            "landmark {\n",
            "  x: 0.32820725440979004\n",
            "  y: 0.5632064938545227\n",
            "  z: 0.2503882348537445\n",
            "}\n",
            "landmark {\n",
            "  x: 0.32990652322769165\n",
            "  y: 0.49243441224098206\n",
            "  z: 0.2853591740131378\n",
            "}\n",
            "landmark {\n",
            "  x: 0.33127105236053467\n",
            "  y: 0.43283337354660034\n",
            "  z: 0.31614211201667786\n",
            "}\n",
            "landmark {\n",
            "  x: 0.25792622566223145\n",
            "  y: 0.7062510251998901\n",
            "  z: 0.15229277312755585\n",
            "}\n",
            "landmark {\n",
            "  x: 0.21182984113693237\n",
            "  y: 0.6127249002456665\n",
            "  z: 0.17065756022930145\n",
            "}\n",
            "landmark {\n",
            "  x: 0.18602830171585083\n",
            "  y: 0.5551885366439819\n",
            "  z: 0.18488208949565887\n",
            "}\n",
            "landmark {\n",
            "  x: 0.17247161269187927\n",
            "  y: 0.5054565668106079\n",
            "  z: 0.2063940465450287\n",
            "}\n",
            "\n",
            "Index finger tip coordinates: ( 2299.56947350502, 2260.6888217926025)\n"
          ]
        },
        {
          "output_type": "display_data",
          "data": {
            "text/plain": [
              "<Figure size 720x720 with 1 Axes>"
            ],
            "image/png": "[encoded data removed]"
          },
          "metadata": {
            "needs_background": "light"
          }
        }
      ]
    },
    {
      "cell_type": "markdown",
      "source": [
        "## homework"
      ],
      "metadata": {
        "id": "yq9qg_BcDGxW"
      }
    },
    {
      "cell_type": "code",
      "source": [
        "import cv2\n",
        "import mediapipe as mp\n",
        "mp_drawing = mp.solutions.drawing_utils\n",
        "mp_drawing_styles = mp.solutions.drawing_styles\n",
        "mp_hands = mp.solutions.hands\n",
        "\n",
        "# For static images:\n",
        "file = 'myhand.jpg'\n",
        "with mp_hands.Hands(\n",
        "    static_image_mode=True,\n",
        "    max_num_hands=2,\n",
        "    min_detection_confidence=0.5) as hands:\n",
        "  image = cv2.flip(cv2.imread(file), 1)\n",
        "  # Convert the BGR image to RGB before processing.\n",
        "  results = hands.process(cv2.cvtColor(image, cv2.COLOR_BGR2RGB))\n",
        "\n",
        "  # Print handedness and draw hand landmarks on the image.\n",
        "  print('Handedness:', results.multi_handedness)\n",
        "  image_height, image_width, _ = image.shape\n",
        "  annotated_image = image.copy()\n",
        "  for hand_landmarks in results.multi_hand_landmarks:\n",
        "    print('hand_landmarks:', hand_landmarks)\n",
        "    print(\n",
        "        f'Index finger tip coordinates: (',\n",
        "        f'{hand_landmarks.landmark[mp_hands.HandLandmark.INDEX_FINGER_TIP].x * image_width}, '\n",
        "        f'{hand_landmarks.landmark[mp_hands.HandLandmark.INDEX_FINGER_TIP].y * image_height})'\n",
        "    )\n",
        "    mp_drawing.draw_landmarks(\n",
        "        annotated_image,\n",
        "        hand_landmarks,\n",
        "        mp_hands.HAND_CONNECTIONS,\n",
        "        mp_drawing_styles.get_default_hand_landmarks_style(),\n",
        "        mp_drawing_styles.get_default_hand_connections_style())\n",
        "  cv2.imwrite(\n",
        "      'my_hand.png', cv2.flip(annotated_image, 1))\n",
        "  # Draw hand world landmarks.\n",
        "  for hand_world_landmarks in results.multi_hand_world_landmarks:\n",
        "    mp_drawing.plot_landmarks(\n",
        "      hand_world_landmarks, mp_hands.HAND_CONNECTIONS, azimuth=5)\n",
        "\n",
        "im = Image.open('my_hand.png')\n",
        "im"
      ],
      "metadata": {
        "id": "uDiMxNTPDJFE"
      },
      "execution_count": null,
      "outputs": []
    }
  ]
}