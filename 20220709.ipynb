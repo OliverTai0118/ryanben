{
  "nbformat": 4,
  "nbformat_minor": 0,
  "metadata": {
    "colab": {
      "name": "20220709.ipynb",
      "provenance": [],
      "authorship_tag": "ABX9TyPiHiEzdF4XWXU6hjMOK9iB",
      "include_colab_link": true
    },
    "kernelspec": {
      "name": "python3",
      "display_name": "Python 3"
    },
    "language_info": {
      "name": "python"
    }
  },
  "cells": [
    {
      "cell_type": "markdown",
      "metadata": {
        "id": "view-in-github",
        "colab_type": "text"
      },
      "source": [
        "<a href=\"https://colab.research.google.com/github/OliverTai0118/ryanben/blob/main/20220709.ipynb\" target=\"_parent\"><img src=\"https://colab.research.google.com/assets/colab-badge.svg\" alt=\"Open In Colab\"/></a>"
      ]
    },
    {
      "cell_type": "code",
      "execution_count": null,
      "metadata": {
        "id": "Ytu75F_efyQf"
      },
      "outputs": [],
      "source": [
        ""
      ]
    },
    {
      "cell_type": "markdown",
      "source": [
        "# 20220709"
      ],
      "metadata": {
        "id": "jzmJ-z9PgOWF"
      }
    },
    {
      "cell_type": "markdown",
      "source": [
        "## 初學者需要知道的概念\n",
        "* 資料型態\n",
        "  *int\n",
        "  *float\n",
        "  *bool\n",
        "  *str\n",
        "* 容器型別\n",
        "  *list  > []\n",
        "  *tuple > ()\n",
        "  *dict > {}\n",
        "  *set >{}\n",
        "*基礎語法\n",
        "  *loop\n",
        "  *functions\n",
        "  *if statements\n",
        "  *exception handling >>例外處理\n"
      ],
      "metadata": {
        "id": "PDU5-FLwgUWO"
      }
    },
    {
      "cell_type": "markdown",
      "source": [
        "# eXtreme Programming\n",
        "\n",
        "**軟體開發的四個變因：**\n",
        "\n",
        "1. 成本 (Cost)\n",
        "\n",
        "2. 時間 (Time)\n",
        "\n",
        "3. 品質 (Quality)\n",
        "\n",
        "4. 範疇 (Scope)\n",
        "\n",
        "**eXtreme Programming的12個核心實踐方式：**\n",
        "\n",
        "1. The Planning Game\n",
        "\n",
        "**2. Small Release**\n",
        "\n",
        "3. System Metaphor\n",
        "\n",
        "4. Simple Design\n",
        "\n",
        "5. Continuous Testing\n",
        "\n",
        "6. Refactoring\n",
        "\n",
        "**7. Pair Programming**\n",
        "\n",
        "8. Collective Code Ownership\n",
        "\n",
        "9. Continuous Integration\n",
        "\n",
        "10. 40-hr Work Week\n",
        "\n",
        "11. On-Site Customer\n",
        "\n",
        "**12. Coding Standards**"
      ],
      "metadata": {
        "id": "HyjGhfk3jjL1"
      }
    },
    {
      "cell_type": "markdown",
      "source": [
        "## for loops\n",
        "back tick\n",
        "```python\n",
        "for 變數 in 資料結構:\n",
        "  程式區塊 (裡面可以使用上面的變數)\n",
        "  "
      ],
      "metadata": {
        "id": "Dcp_1g_lme04"
      }
    },
    {
      "cell_type": "code",
      "source": [
        "#loops:for,while"
      ],
      "metadata": {
        "id": "FiiAasonmXZ3"
      },
      "execution_count": null,
      "outputs": []
    },
    {
      "cell_type": "code",
      "source": [
        "for i in range(3):\n",
        "  print(\"程式區塊開始\")\n",
        "  print(i)\n",
        "  print(\"程式區塊結束\")\n",
        "  "
      ],
      "metadata": {
        "colab": {
          "base_uri": "https://localhost:8080/"
        },
        "id": "4dK8yuspm8hZ",
        "outputId": "b4110f03-ac2e-46cd-b6bb-8e911dbb80db"
      },
      "execution_count": 1,
      "outputs": [
        {
          "output_type": "stream",
          "name": "stdout",
          "text": [
            "程式區塊開始\n",
            "0\n",
            "程式區塊結束\n",
            "程式區塊開始\n",
            "1\n",
            "程式區塊結束\n",
            "程式區塊開始\n",
            "2\n",
            "程式區塊結束\n"
          ]
        }
      ]
    },
    {
      "cell_type": "code",
      "source": [
        "for i in range(3):\n",
        "  print(\"程式區塊開始\")\n",
        "  print(i)\n",
        "print(\"程式區塊結束\")"
      ],
      "metadata": {
        "colab": {
          "base_uri": "https://localhost:8080/"
        },
        "id": "Nep3Hdzmn2SN",
        "outputId": "020047ac-5c8d-45a4-c546-3c3def325747"
      },
      "execution_count": 2,
      "outputs": [
        {
          "output_type": "stream",
          "name": "stdout",
          "text": [
            "程式區塊開始\n",
            "0\n",
            "程式區塊開始\n",
            "1\n",
            "程式區塊開始\n",
            "2\n",
            "程式區塊結束\n"
          ]
        }
      ]
    },
    {
      "cell_type": "markdown",
      "source": [
        "## for loops\n",
        "back tick\n",
        "```python\n",
        "while 條件式:\n",
        "  程式區塊"
      ],
      "metadata": {
        "id": "SfY4WgrRoQIT"
      }
    },
    {
      "cell_type": "code",
      "source": [
        "x=0\n",
        "while x < 10:\n",
        "  print(x)\n",
        "  x=x+1"
      ],
      "metadata": {
        "colab": {
          "base_uri": "https://localhost:8080/"
        },
        "id": "5-DB_2DGocFe",
        "outputId": "03508991-2278-476a-ebdc-fb7a75b00100"
      },
      "execution_count": 4,
      "outputs": [
        {
          "output_type": "stream",
          "name": "stdout",
          "text": [
            "0\n",
            "1\n",
            "2\n",
            "3\n",
            "4\n",
            "5\n",
            "6\n",
            "7\n",
            "8\n",
            "9\n"
          ]
        }
      ]
    },
    {
      "cell_type": "markdown",
      "source": [
        "## 寫一個九九乘法表\n",
        "用for迴圈或while迴圈做做看!\n",
        "巢狀迴圈:nested loops巢狀迴圈:nested loops"
      ],
      "metadata": {
        "id": "LbH8kcNSpgrO"
      }
    },
    {
      "cell_type": "code",
      "source": [
        "for i in range(2,10):\n",
        "  for j in range(1,10):\n",
        "    print (i,\"x\",j,\"=\",i*j)\n"
      ],
      "metadata": {
        "colab": {
          "base_uri": "https://localhost:8080/"
        },
        "id": "_nas0ny7pthF",
        "outputId": "ccb734f9-21ad-4a16-8b29-0016516fbba7"
      },
      "execution_count": 14,
      "outputs": [
        {
          "output_type": "stream",
          "name": "stdout",
          "text": [
            "2 x 1 = 2\n",
            "2 x 2 = 4\n",
            "2 x 3 = 6\n",
            "2 x 4 = 8\n",
            "2 x 5 = 10\n",
            "2 x 6 = 12\n",
            "2 x 7 = 14\n",
            "2 x 8 = 16\n",
            "2 x 9 = 18\n",
            "3 x 1 = 3\n",
            "3 x 2 = 6\n",
            "3 x 3 = 9\n",
            "3 x 4 = 12\n",
            "3 x 5 = 15\n",
            "3 x 6 = 18\n",
            "3 x 7 = 21\n",
            "3 x 8 = 24\n",
            "3 x 9 = 27\n",
            "4 x 1 = 4\n",
            "4 x 2 = 8\n",
            "4 x 3 = 12\n",
            "4 x 4 = 16\n",
            "4 x 5 = 20\n",
            "4 x 6 = 24\n",
            "4 x 7 = 28\n",
            "4 x 8 = 32\n",
            "4 x 9 = 36\n",
            "5 x 1 = 5\n",
            "5 x 2 = 10\n",
            "5 x 3 = 15\n",
            "5 x 4 = 20\n",
            "5 x 5 = 25\n",
            "5 x 6 = 30\n",
            "5 x 7 = 35\n",
            "5 x 8 = 40\n",
            "5 x 9 = 45\n",
            "6 x 1 = 6\n",
            "6 x 2 = 12\n",
            "6 x 3 = 18\n",
            "6 x 4 = 24\n",
            "6 x 5 = 30\n",
            "6 x 6 = 36\n",
            "6 x 7 = 42\n",
            "6 x 8 = 48\n",
            "6 x 9 = 54\n",
            "7 x 1 = 7\n",
            "7 x 2 = 14\n",
            "7 x 3 = 21\n",
            "7 x 4 = 28\n",
            "7 x 5 = 35\n",
            "7 x 6 = 42\n",
            "7 x 7 = 49\n",
            "7 x 8 = 56\n",
            "7 x 9 = 63\n",
            "8 x 1 = 8\n",
            "8 x 2 = 16\n",
            "8 x 3 = 24\n",
            "8 x 4 = 32\n",
            "8 x 5 = 40\n",
            "8 x 6 = 48\n",
            "8 x 7 = 56\n",
            "8 x 8 = 64\n",
            "8 x 9 = 72\n",
            "9 x 1 = 9\n",
            "9 x 2 = 18\n",
            "9 x 3 = 27\n",
            "9 x 4 = 36\n",
            "9 x 5 = 45\n",
            "9 x 6 = 54\n",
            "9 x 7 = 63\n",
            "9 x 8 = 72\n",
            "9 x 9 = 81\n"
          ]
        }
      ]
    },
    {
      "cell_type": "code",
      "source": [
        "list(range(5))"
      ],
      "metadata": {
        "colab": {
          "base_uri": "https://localhost:8080/"
        },
        "id": "O9aXfbIKqKS5",
        "outputId": "b8430fb1-ce37-4118-eeec-8eea8d86faf3"
      },
      "execution_count": 7,
      "outputs": [
        {
          "output_type": "execute_result",
          "data": {
            "text/plain": [
              "[0, 1, 2, 3, 4]"
            ]
          },
          "metadata": {},
          "execution_count": 7
        }
      ]
    },
    {
      "cell_type": "code",
      "source": [
        "list(range(2,10))"
      ],
      "metadata": {
        "colab": {
          "base_uri": "https://localhost:8080/"
        },
        "id": "dSSpQh4JqRhH",
        "outputId": "c7788af5-2fdd-4b3f-9e08-466dee4fc549"
      },
      "execution_count": 8,
      "outputs": [
        {
          "output_type": "execute_result",
          "data": {
            "text/plain": [
              "[2, 3, 4, 5, 6, 7, 8, 9]"
            ]
          },
          "metadata": {},
          "execution_count": 8
        }
      ]
    },
    {
      "cell_type": "code",
      "source": [
        "x=1\n",
        "while x<10:\n",
        "  y=1\n",
        "  x=x+1\n",
        "  while y<10:\n",
        "      print(x,\"X\",y,\"=\",x*y)\n",
        "      y=y+1\n",
        "\n"
      ],
      "metadata": {
        "colab": {
          "base_uri": "https://localhost:8080/"
        },
        "id": "zpZQfgFirMJK",
        "outputId": "b24de76b-52ce-4449-88ee-153e6175a4c2"
      },
      "execution_count": 19,
      "outputs": [
        {
          "output_type": "stream",
          "name": "stdout",
          "text": [
            "2 X 1 = 2\n",
            "2 X 2 = 4\n",
            "2 X 3 = 6\n",
            "2 X 4 = 8\n",
            "2 X 5 = 10\n",
            "2 X 6 = 12\n",
            "2 X 7 = 14\n",
            "2 X 8 = 16\n",
            "2 X 9 = 18\n",
            "3 X 1 = 3\n",
            "3 X 2 = 6\n",
            "3 X 3 = 9\n",
            "3 X 4 = 12\n",
            "3 X 5 = 15\n",
            "3 X 6 = 18\n",
            "3 X 7 = 21\n",
            "3 X 8 = 24\n",
            "3 X 9 = 27\n",
            "4 X 1 = 4\n",
            "4 X 2 = 8\n",
            "4 X 3 = 12\n",
            "4 X 4 = 16\n",
            "4 X 5 = 20\n",
            "4 X 6 = 24\n",
            "4 X 7 = 28\n",
            "4 X 8 = 32\n",
            "4 X 9 = 36\n",
            "5 X 1 = 5\n",
            "5 X 2 = 10\n",
            "5 X 3 = 15\n",
            "5 X 4 = 20\n",
            "5 X 5 = 25\n",
            "5 X 6 = 30\n",
            "5 X 7 = 35\n",
            "5 X 8 = 40\n",
            "5 X 9 = 45\n",
            "6 X 1 = 6\n",
            "6 X 2 = 12\n",
            "6 X 3 = 18\n",
            "6 X 4 = 24\n",
            "6 X 5 = 30\n",
            "6 X 6 = 36\n",
            "6 X 7 = 42\n",
            "6 X 8 = 48\n",
            "6 X 9 = 54\n",
            "7 X 1 = 7\n",
            "7 X 2 = 14\n",
            "7 X 3 = 21\n",
            "7 X 4 = 28\n",
            "7 X 5 = 35\n",
            "7 X 6 = 42\n",
            "7 X 7 = 49\n",
            "7 X 8 = 56\n",
            "7 X 9 = 63\n",
            "8 X 1 = 8\n",
            "8 X 2 = 16\n",
            "8 X 3 = 24\n",
            "8 X 4 = 32\n",
            "8 X 5 = 40\n",
            "8 X 6 = 48\n",
            "8 X 7 = 56\n",
            "8 X 8 = 64\n",
            "8 X 9 = 72\n",
            "9 X 1 = 9\n",
            "9 X 2 = 18\n",
            "9 X 3 = 27\n",
            "9 X 4 = 36\n",
            "9 X 5 = 45\n",
            "9 X 6 = 54\n",
            "9 X 7 = 63\n",
            "9 X 8 = 72\n",
            "9 X 9 = 81\n",
            "10 X 1 = 10\n",
            "10 X 2 = 20\n",
            "10 X 3 = 30\n",
            "10 X 4 = 40\n",
            "10 X 5 = 50\n",
            "10 X 6 = 60\n",
            "10 X 7 = 70\n",
            "10 X 8 = 80\n",
            "10 X 9 = 90\n"
          ]
        }
      ]
    },
    {
      "cell_type": "markdown",
      "source": [
        "# 條件式(if statements)\n",
        "基本語法:\n",
        "語法一\n",
        "使用條件式來決定程式區塊是否被執行\n",
        "```python\n",
        "if 條件式:\n",
        "  程式區塊\n",
        "\n",
        "  語法二\n",
        "  使用條件式來決定執行條件區塊1還是程式區塊2使用條件式來決定執行程式區塊\n",
        "```python\n",
        "if 條件式:\n",
        "  程式區塊1\n",
        "else:\n",
        "  程式區塊2\n",
        "\n",
        "  語法三\n",
        "  使用條件式來決定執行條件區塊1還是程式區塊2還是程式區塊3還是程式區塊3使用條件式來決定執行程式區塊\n",
        "```python\n",
        "if 條件式1:\n",
        "  程式區塊1\n",
        "elif 條件式2:\n",
        "  程式區塊2\n",
        "else:\n",
        "  程式區塊3"
      ],
      "metadata": {
        "id": "mS1BTE8LuUJy"
      }
    },
    {
      "cell_type": "code",
      "source": [
        "a=3\n",
        "b=2\n",
        "\n",
        "if a>b:\n",
        "  print(\"a>b\")"
      ],
      "metadata": {
        "colab": {
          "base_uri": "https://localhost:8080/"
        },
        "id": "zDFlkIDswB49",
        "outputId": "484bdc3a-9aa7-45a4-8060-9137e4141db3"
      },
      "execution_count": 20,
      "outputs": [
        {
          "output_type": "stream",
          "name": "stdout",
          "text": [
            "a>b\n"
          ]
        }
      ]
    },
    {
      "cell_type": "code",
      "source": [
        "a=3\n",
        "b=2\n",
        "\n",
        "if a>b:\n",
        "  print(\"a>b\")\n",
        "else:\n",
        "  print(\"a<=b\")"
      ],
      "metadata": {
        "colab": {
          "base_uri": "https://localhost:8080/"
        },
        "id": "jzGzS2nhwPzm",
        "outputId": "e34a2238-d285-41e8-8051-a033db803f1a"
      },
      "execution_count": 23,
      "outputs": [
        {
          "output_type": "stream",
          "name": "stdout",
          "text": [
            "a>b\n"
          ]
        }
      ]
    },
    {
      "cell_type": "code",
      "source": [
        "a=2\n",
        "b=2\n",
        "\n",
        "if a>b:\n",
        "  print(\"a>b\")\n",
        "elif a==b:\n",
        "  print(\"a==b\")\n",
        "else:\n",
        "  print(\"a<b\")"
      ],
      "metadata": {
        "colab": {
          "base_uri": "https://localhost:8080/"
        },
        "id": "3XekWG_zwZI6",
        "outputId": "17b3982d-ee89-4f13-f556-4d9b0ba9ae6e"
      },
      "execution_count": 30,
      "outputs": [
        {
          "output_type": "stream",
          "name": "stdout",
          "text": [
            "a==b\n"
          ]
        }
      ]
    },
    {
      "cell_type": "markdown",
      "source": [
        "## 練習\n",
        "\n",
        "請計算BMI並判斷體衛\n",
        "$$bmi=\\frac{體重(公斤)}{身高(公尺)^2}$$\n",
        "|條件|體衛|\n",
        "|:-:|:-:|\n"
      ],
      "metadata": {
        "id": "j_eKDmqXyHEB"
      }
    },
    {
      "cell_type": "code",
      "source": [
        "weight=105\n",
        "height=1.74\n",
        "bmi=weight/((height)**2)\n",
        "bmi\n",
        "if bmi<18:\n",
        "  print(\"過輕\")\n",
        "elif bmi>=18 and bmi<32:\n",
        "  print(\"正常\")\n",
        "else:\n",
        "  print(\"BMI=\",bmi,\"過重\")"
      ],
      "metadata": {
        "colab": {
          "base_uri": "https://localhost:8080/"
        },
        "id": "sIo2nkEZzD20",
        "outputId": "7cd457e1-93cb-4d6b-bcab-3e8ea1bd8c0f"
      },
      "execution_count": 43,
      "outputs": [
        {
          "output_type": "stream",
          "name": "stdout",
          "text": [
            "BMI= 34.68093539437178 過重\n"
          ]
        }
      ]
    },
    {
      "cell_type": "code",
      "source": [
        "def health(w,h):\n",
        "  bmi=w/((h)**2)\n",
        "\n",
        "  if bmi<18:\n",
        "    return(\"過輕\")\n",
        "  elif bmi>=18 and bmi<32:\n",
        "    return(\"正常\")\n",
        "  else:\n",
        "    return(\"BMI=\",bmi,\"過重\")"
      ],
      "metadata": {
        "id": "1GgJhx722t1A"
      },
      "execution_count": 58,
      "outputs": []
    },
    {
      "cell_type": "code",
      "source": [
        "health(105,1.74)"
      ],
      "metadata": {
        "colab": {
          "base_uri": "https://localhost:8080/"
        },
        "id": "O3guLz7h4Z8i",
        "outputId": "9034d48c-502a-4164-8dc5-bddc1f582e58"
      },
      "execution_count": 59,
      "outputs": [
        {
          "output_type": "execute_result",
          "data": {
            "text/plain": [
              "('BMI=', 34.68093539437178, '過重')"
            ]
          },
          "metadata": {},
          "execution_count": 59
        }
      ]
    },
    {
      "cell_type": "code",
      "source": [
        "x=health(105,1.74)\n",
        "print(x)"
      ],
      "metadata": {
        "colab": {
          "base_uri": "https://localhost:8080/"
        },
        "id": "o7gi3Bw64xLv",
        "outputId": "bf97c08a-d7db-4460-9dea-51c5832575d3"
      },
      "execution_count": 60,
      "outputs": [
        {
          "output_type": "stream",
          "name": "stdout",
          "text": [
            "('BMI=', 34.68093539437178, '過重')\n"
          ]
        }
      ]
    },
    {
      "cell_type": "code",
      "source": [
        "x=input(\"請輸入資料:\")"
      ],
      "metadata": {
        "colab": {
          "base_uri": "https://localhost:8080/"
        },
        "id": "4PhyBfWF7Kbp",
        "outputId": "06a4f667-5434-43b7-eabb-ac6a8afa7bae"
      },
      "execution_count": 51,
      "outputs": [
        {
          "name": "stdout",
          "output_type": "stream",
          "text": [
            "請輸入資料:123\n"
          ]
        }
      ]
    },
    {
      "cell_type": "code",
      "source": [
        "x"
      ],
      "metadata": {
        "colab": {
          "base_uri": "https://localhost:8080/",
          "height": 35
        },
        "id": "ag5FcAok7d0C",
        "outputId": "258d33ef-19f9-49b8-dfe3-1a5d4fbcb639"
      },
      "execution_count": 52,
      "outputs": [
        {
          "output_type": "execute_result",
          "data": {
            "text/plain": [
              "'123'"
            ],
            "application/vnd.google.colaboratory.intrinsic+json": {
              "type": "string"
            }
          },
          "metadata": {},
          "execution_count": 52
        }
      ]
    },
    {
      "cell_type": "code",
      "source": [
        "w=input(\"請輸入體重:\")\n",
        "h=input(\"請輸入身高:\")\n",
        "health(float(w),float(h))"
      ],
      "metadata": {
        "colab": {
          "base_uri": "https://localhost:8080/"
        },
        "id": "RT3ugThe7o7j",
        "outputId": "4e7603de-f65b-4dcb-a064-2549ea11c1cb"
      },
      "execution_count": 53,
      "outputs": [
        {
          "output_type": "stream",
          "name": "stdout",
          "text": [
            "請輸入體重:105\n",
            "請輸入身高:1.74\n",
            "BMI= 34.68093539437178 過重\n"
          ]
        }
      ]
    },
    {
      "cell_type": "markdown",
      "source": [
        "# Gradio 使用簡介"
      ],
      "metadata": {
        "id": "KBmeFinf_t7T"
      }
    },
    {
      "cell_type": "code",
      "source": [
        "!pip install gradio"
      ],
      "metadata": {
        "id": "nSckFNtu_y6U"
      },
      "execution_count": null,
      "outputs": []
    },
    {
      "cell_type": "code",
      "source": [
        "def greet(name):\n",
        "  return \"Hello \" + name + \"!\"\n",
        "\n",
        "greet(\"World\")"
      ],
      "metadata": {
        "colab": {
          "base_uri": "https://localhost:8080/",
          "height": 35
        },
        "id": "eofGYEnPAR8F",
        "outputId": "c24143b1-6d2c-425c-c62e-d9eab2785f71"
      },
      "execution_count": 62,
      "outputs": [
        {
          "output_type": "execute_result",
          "data": {
            "text/plain": [
              "'Hello World!'"
            ],
            "application/vnd.google.colaboratory.intrinsic+json": {
              "type": "string"
            }
          },
          "metadata": {},
          "execution_count": 62
        }
      ]
    },
    {
      "cell_type": "code",
      "source": [
        "import gradio"
      ],
      "metadata": {
        "id": "cVpDRz5RAZrZ"
      },
      "execution_count": 63,
      "outputs": []
    },
    {
      "cell_type": "code",
      "source": [
        "def health(w,h):\n",
        "  bmi=float(w)/((float(h))**2)\n",
        "\n",
        "  if bmi<18:\n",
        "    return(\"過輕\")\n",
        "  elif bmi>=18 and bmi<32:\n",
        "    return(\"正常\")\n",
        "  else:\n",
        "    return(\"BMI=\",bmi,\"過重\")"
      ],
      "metadata": {
        "id": "AsfLYMU8Cw5R"
      },
      "execution_count": 67,
      "outputs": []
    },
    {
      "cell_type": "code",
      "source": [
        "gradio.Interface(health, [\"text\",\"text\"], \"text\",title=\"判斷體位\").launch(share=True)"
      ],
      "metadata": {
        "colab": {
          "base_uri": "https://localhost:8080/",
          "height": 643
        },
        "id": "mgkBqKNQAdhT",
        "outputId": "775a862c-46d2-4214-9c5f-8c67a9c80dcb"
      },
      "execution_count": 68,
      "outputs": [
        {
          "output_type": "stream",
          "name": "stdout",
          "text": [
            "Colab notebook detected. To show errors in colab notebook, set `debug=True` in `launch()`\n",
            "Running on public URL: https://53274.gradio.app\n",
            "\n",
            "This share link expires in 72 hours. For free permanent hosting, check out Spaces (https://huggingface.co/spaces)\n"
          ]
        },
        {
          "output_type": "display_data",
          "data": {
            "text/plain": [
              "<IPython.core.display.HTML object>"
            ],
            "text/html": [
              "<div><iframe src=\"https://53274.gradio.app\" width=\"900\" height=\"500\" allow=\"autoplay; camera; microphone;\" frameborder=\"0\" allowfullscreen></iframe></div>"
            ]
          },
          "metadata": {}
        },
        {
          "output_type": "execute_result",
          "data": {
            "text/plain": [
              "(<gradio.routes.App at 0x7fc533027710>,\n",
              " 'http://127.0.0.1:7863/',\n",
              " 'https://53274.gradio.app')"
            ]
          },
          "metadata": {},
          "execution_count": 68
        }
      ]
    },
    {
      "cell_type": "code",
      "source": [
        "import requests"
      ],
      "metadata": {
        "id": "dOyZ3nj7G9Vs"
      },
      "execution_count": 69,
      "outputs": []
    },
    {
      "cell_type": "code",
      "source": [
        "def lookup(word):\n",
        "  url = f\"https://www.moedict.tw/uni/{word}\"\n",
        "  return requests.get(url).json()"
      ],
      "metadata": {
        "id": "1PxFBB-FHT57"
      },
      "execution_count": 70,
      "outputs": []
    },
    {
      "cell_type": "code",
      "source": [
        "gradio.Interface(lookup, \"text\", \"text\", title=\"萌典\").launch(share=True)"
      ],
      "metadata": {
        "colab": {
          "base_uri": "https://localhost:8080/",
          "height": 643
        },
        "id": "U375Tk9uHZyi",
        "outputId": "1887dce5-e6e9-4105-f229-a4c1b1242139"
      },
      "execution_count": 72,
      "outputs": [
        {
          "output_type": "stream",
          "name": "stdout",
          "text": [
            "Colab notebook detected. To show errors in colab notebook, set `debug=True` in `launch()`\n",
            "Running on public URL: https://38688.gradio.app\n",
            "\n",
            "This share link expires in 72 hours. For free permanent hosting, check out Spaces (https://huggingface.co/spaces)\n"
          ]
        },
        {
          "output_type": "display_data",
          "data": {
            "text/plain": [
              "<IPython.core.display.HTML object>"
            ],
            "text/html": [
              "<div><iframe src=\"https://38688.gradio.app\" width=\"900\" height=\"500\" allow=\"autoplay; camera; microphone;\" frameborder=\"0\" allowfullscreen></iframe></div>"
            ]
          },
          "metadata": {}
        },
        {
          "output_type": "execute_result",
          "data": {
            "text/plain": [
              "(<gradio.routes.App at 0x7fc539c7f4d0>,\n",
              " 'http://127.0.0.1:7864/',\n",
              " 'https://38688.gradio.app')"
            ]
          },
          "metadata": {},
          "execution_count": 72
        }
      ]
    },
    {
      "cell_type": "markdown",
      "source": [
        "# 爬蟲簡介"
      ],
      "metadata": {
        "id": "oaY8AYIWfKrQ"
      }
    },
    {
      "cell_type": "code",
      "source": [
        "import requests"
      ],
      "metadata": {
        "id": "-uqchXQCfT0s"
      },
      "execution_count": 73,
      "outputs": []
    },
    {
      "cell_type": "code",
      "source": [
        "url=\"https://victorgau.github.io/khpy_web_intro/html_only.html\""
      ],
      "metadata": {
        "id": "Qq8_nZ29foaw"
      },
      "execution_count": 74,
      "outputs": []
    },
    {
      "cell_type": "code",
      "source": [
        "r=requests.get(url)"
      ],
      "metadata": {
        "id": "vqevF6QefstW"
      },
      "execution_count": 75,
      "outputs": []
    },
    {
      "cell_type": "code",
      "source": [
        "print(r.text)"
      ],
      "metadata": {
        "colab": {
          "base_uri": "https://localhost:8080/"
        },
        "id": "kHf2Z5Ddf3of",
        "outputId": "0618d8c7-8102-417d-adfa-0ff743492e67"
      },
      "execution_count": 76,
      "outputs": [
        {
          "output_type": "stream",
          "name": "stdout",
          "text": [
            "<!DOCTYPE html>\n",
            "<html>\n",
            "<head>\n",
            "    <title>HTML範例</title>\n",
            "</head>\n",
            "<body>\n",
            "\n",
            "<h1>哈囉！HTML！</h1>\n",
            "\n",
            "<img src=\"ninja.jpg\" />\n",
            "\n",
            "</body>\n",
            "</html>\n"
          ]
        }
      ]
    },
    {
      "cell_type": "code",
      "source": [
        "type(r)"
      ],
      "metadata": {
        "colab": {
          "base_uri": "https://localhost:8080/"
        },
        "id": "uzBgPgszgg9T",
        "outputId": "eff48ac9-27bd-4227-bad7-218a919f3265"
      },
      "execution_count": 77,
      "outputs": [
        {
          "output_type": "execute_result",
          "data": {
            "text/plain": [
              "requests.models.Response"
            ]
          },
          "metadata": {},
          "execution_count": 77
        }
      ]
    },
    {
      "cell_type": "code",
      "source": [
        "r.status_code"
      ],
      "metadata": {
        "colab": {
          "base_uri": "https://localhost:8080/"
        },
        "id": "BJLbdpIzhIUV",
        "outputId": "a6d31ac8-e228-4e8d-866d-223a1c4da947"
      },
      "execution_count": 78,
      "outputs": [
        {
          "output_type": "execute_result",
          "data": {
            "text/plain": [
              "200"
            ]
          },
          "metadata": {},
          "execution_count": 78
        }
      ]
    },
    {
      "cell_type": "code",
      "source": [
        "f=open(\"index.html\",\"w\")\n",
        "f.write(r.text)\n",
        "f.close()"
      ],
      "metadata": {
        "id": "x4mL67vShk5r"
      },
      "execution_count": 81,
      "outputs": []
    },
    {
      "cell_type": "markdown",
      "source": [
        "# json v.s. dict/list差別\n"
      ],
      "metadata": {
        "id": "djzIHTqDlx0Y"
      }
    },
    {
      "cell_type": "code",
      "source": [
        "d={}"
      ],
      "metadata": {
        "id": "1J8WXmNVl4Xx"
      },
      "execution_count": 83,
      "outputs": []
    },
    {
      "cell_type": "code",
      "source": [
        "d['cat']=\"貓咪\""
      ],
      "metadata": {
        "id": "1Wj_46dRl9ck"
      },
      "execution_count": 84,
      "outputs": []
    },
    {
      "cell_type": "code",
      "source": [
        "d['dog']=\"狗狗\""
      ],
      "metadata": {
        "id": "tzfwswJkmTmJ"
      },
      "execution_count": 85,
      "outputs": []
    },
    {
      "cell_type": "code",
      "source": [
        "d\n"
      ],
      "metadata": {
        "colab": {
          "base_uri": "https://localhost:8080/"
        },
        "id": "DjvedjehmYNv",
        "outputId": "4e345bd3-5d93-438f-eaa7-29fe91e682ce"
      },
      "execution_count": 86,
      "outputs": [
        {
          "output_type": "execute_result",
          "data": {
            "text/plain": [
              "{'cat': '貓咪', 'dog': '狗狗'}"
            ]
          },
          "metadata": {},
          "execution_count": 86
        }
      ]
    },
    {
      "cell_type": "code",
      "source": [
        "type(d)"
      ],
      "metadata": {
        "colab": {
          "base_uri": "https://localhost:8080/"
        },
        "id": "rdUqd9vUmmaU",
        "outputId": "4e3c7a59-8c45-4202-b766-ce167a99801c"
      },
      "execution_count": 87,
      "outputs": [
        {
          "output_type": "execute_result",
          "data": {
            "text/plain": [
              "dict"
            ]
          },
          "metadata": {},
          "execution_count": 87
        }
      ]
    },
    {
      "cell_type": "code",
      "source": [
        "e = '{\"cat\": \"貓咪\", \"dog\": \"狗狗\"}'"
      ],
      "metadata": {
        "id": "VxCcKXkumvGj"
      },
      "execution_count": 92,
      "outputs": []
    },
    {
      "cell_type": "code",
      "source": [
        "type(e)"
      ],
      "metadata": {
        "colab": {
          "base_uri": "https://localhost:8080/"
        },
        "id": "HA3u7YbNmwwm",
        "outputId": "bd7f9601-b2a9-4321-cf30-ccfcc108567f"
      },
      "execution_count": 93,
      "outputs": [
        {
          "output_type": "execute_result",
          "data": {
            "text/plain": [
              "str"
            ]
          },
          "metadata": {},
          "execution_count": 93
        }
      ]
    },
    {
      "cell_type": "code",
      "source": [
        "import json"
      ],
      "metadata": {
        "id": "ASWQKM_Dm6L7"
      },
      "execution_count": 94,
      "outputs": []
    },
    {
      "cell_type": "code",
      "source": [
        "json.loads(e)"
      ],
      "metadata": {
        "colab": {
          "base_uri": "https://localhost:8080/"
        },
        "id": "tIeZ9AaUm874",
        "outputId": "426a488b-8d77-4a2a-801c-87ec4e264be1"
      },
      "execution_count": 95,
      "outputs": [
        {
          "output_type": "execute_result",
          "data": {
            "text/plain": [
              "{'cat': '貓咪', 'dog': '狗狗'}"
            ]
          },
          "metadata": {},
          "execution_count": 95
        }
      ]
    },
    {
      "cell_type": "markdown",
      "source": [
        "## 使用萌典API"
      ],
      "metadata": {
        "id": "3UQeh9q8oYZQ"
      }
    },
    {
      "cell_type": "code",
      "source": [
        "url = \" https://www.moedict.tw/uni/\""
      ],
      "metadata": {
        "id": "fztwfPMUoeX4"
      },
      "execution_count": 96,
      "outputs": []
    },
    {
      "cell_type": "code",
      "source": [
        "q=\"教室\""
      ],
      "metadata": {
        "id": "H_F-J_Amo51O"
      },
      "execution_count": 98,
      "outputs": []
    },
    {
      "cell_type": "code",
      "source": [
        "url+q"
      ],
      "metadata": {
        "colab": {
          "base_uri": "https://localhost:8080/",
          "height": 35
        },
        "id": "85IjzLOspAo4",
        "outputId": "9c1074ad-389b-4f45-ea9b-2ead403bb875"
      },
      "execution_count": 99,
      "outputs": [
        {
          "output_type": "execute_result",
          "data": {
            "text/plain": [
              "' https://www.moedict.tw/uni/教室'"
            ],
            "application/vnd.google.colaboratory.intrinsic+json": {
              "type": "string"
            }
          },
          "metadata": {},
          "execution_count": 99
        }
      ]
    },
    {
      "cell_type": "code",
      "source": [
        "r=requests.get(url+q)"
      ],
      "metadata": {
        "id": "1h0C-CQypHvz"
      },
      "execution_count": 100,
      "outputs": []
    },
    {
      "cell_type": "code",
      "source": [
        "print(r.text)"
      ],
      "metadata": {
        "colab": {
          "base_uri": "https://localhost:8080/"
        },
        "id": "oSIui7XOpORc",
        "outputId": "3c9e5853-461f-4b59-9c0b-f95d7557b058"
      },
      "execution_count": 101,
      "outputs": [
        {
          "output_type": "stream",
          "name": "stdout",
          "text": [
            "\t{\n",
            "\t\t\"heteronyms\": [\n",
            "\t\t\t{\n",
            "\t\t\t\t\"bopomofo\": \"ㄐㄧㄠˋ ㄕˋ\",\n",
            "\t\t\t\t\"bopomofo2\": \"jiàu shr̀\",\n",
            "\t\t\t\t\"definitions\": [\n",
            "\t\t\t\t\t{\n",
            "\t\t\t\t\t\t\"def\": \"學校裡進行教學活動的房間。\",\n",
            "\t\t\t\t\t\t\"example\": [\n",
            "\t\t\t\t\t\t\t\"如：「實驗教室」、「音樂教室」。\"\n",
            "\t\t\t\t\t\t],\n",
            "\t\t\t\t\t\t\"synonyms\": \"課堂,講堂\"\n",
            "\t\t\t\t\t}\n",
            "\t\t\t\t],\n",
            "\t\t\t\t\"pinyin\": \"jiào shì\"\n",
            "\t\t\t}\n",
            "\t\t],\n",
            "\t\t\"title\": \"教室\"\n",
            "\t}\n"
          ]
        }
      ]
    },
    {
      "cell_type": "code",
      "source": [
        "data=json.loads(r.text)"
      ],
      "metadata": {
        "id": "9gdqjBAhpkya"
      },
      "execution_count": 104,
      "outputs": []
    },
    {
      "cell_type": "code",
      "source": [
        "type(data)"
      ],
      "metadata": {
        "colab": {
          "base_uri": "https://localhost:8080/"
        },
        "id": "lvZhacYJpy3P",
        "outputId": "ec34f2cc-e4cb-4233-be09-f4ae4ff3004f"
      },
      "execution_count": 105,
      "outputs": [
        {
          "output_type": "execute_result",
          "data": {
            "text/plain": [
              "dict"
            ]
          },
          "metadata": {},
          "execution_count": 105
        }
      ]
    },
    {
      "cell_type": "code",
      "source": [
        "data"
      ],
      "metadata": {
        "colab": {
          "base_uri": "https://localhost:8080/"
        },
        "id": "A3LvD2cAp8Pp",
        "outputId": "79df5c99-e0a6-4a6c-d684-72a9e3ec031d"
      },
      "execution_count": 106,
      "outputs": [
        {
          "output_type": "execute_result",
          "data": {
            "text/plain": [
              "{'heteronyms': [{'bopomofo': 'ㄐㄧㄠˋ ㄕˋ',\n",
              "   'bopomofo2': 'jiàu shr̀',\n",
              "   'definitions': [{'def': '學校裡進行教學活動的房間。',\n",
              "     'example': ['如：「實驗教室」、「音樂教室」。'],\n",
              "     'synonyms': '課堂,講堂'}],\n",
              "   'pinyin': 'jiào shì'}],\n",
              " 'title': '教室'}"
            ]
          },
          "metadata": {},
          "execution_count": 106
        }
      ]
    },
    {
      "cell_type": "code",
      "source": [
        "data.keys()"
      ],
      "metadata": {
        "colab": {
          "base_uri": "https://localhost:8080/"
        },
        "id": "-gcSQKNaqTmd",
        "outputId": "aaa1f56a-b093-475d-ea3d-b69d850a08a5"
      },
      "execution_count": 109,
      "outputs": [
        {
          "output_type": "execute_result",
          "data": {
            "text/plain": [
              "dict_keys(['heteronyms', 'title'])"
            ]
          },
          "metadata": {},
          "execution_count": 109
        }
      ]
    },
    {
      "cell_type": "code",
      "source": [
        "data['heteronyms']"
      ],
      "metadata": {
        "colab": {
          "base_uri": "https://localhost:8080/"
        },
        "id": "GoYraOdWqXSF",
        "outputId": "8e5d5ad1-a17f-43b5-f39e-b78bd959913e"
      },
      "execution_count": 111,
      "outputs": [
        {
          "output_type": "execute_result",
          "data": {
            "text/plain": [
              "[{'bopomofo': 'ㄐㄧㄠˋ ㄕˋ',\n",
              "  'bopomofo2': 'jiàu shr̀',\n",
              "  'definitions': [{'def': '學校裡進行教學活動的房間。',\n",
              "    'example': ['如：「實驗教室」、「音樂教室」。'],\n",
              "    'synonyms': '課堂,講堂'}],\n",
              "  'pinyin': 'jiào shì'}]"
            ]
          },
          "metadata": {},
          "execution_count": 111
        }
      ]
    },
    {
      "cell_type": "code",
      "source": [
        "data['heteronyms'][0]"
      ],
      "metadata": {
        "colab": {
          "base_uri": "https://localhost:8080/"
        },
        "id": "sNNsOp2zq6Oe",
        "outputId": "02b640c6-aa1d-419e-e841-94e3dfdc38d9"
      },
      "execution_count": 112,
      "outputs": [
        {
          "output_type": "execute_result",
          "data": {
            "text/plain": [
              "{'bopomofo': 'ㄐㄧㄠˋ ㄕˋ',\n",
              " 'bopomofo2': 'jiàu shr̀',\n",
              " 'definitions': [{'def': '學校裡進行教學活動的房間。',\n",
              "   'example': ['如：「實驗教室」、「音樂教室」。'],\n",
              "   'synonyms': '課堂,講堂'}],\n",
              " 'pinyin': 'jiào shì'}"
            ]
          },
          "metadata": {},
          "execution_count": 112
        }
      ]
    },
    {
      "cell_type": "code",
      "source": [
        "data['heteronyms'][0]['definitions']"
      ],
      "metadata": {
        "colab": {
          "base_uri": "https://localhost:8080/"
        },
        "id": "iaoL89Fpq9x3",
        "outputId": "9ec3610f-e1e2-4dc4-fa6f-4330ae576daa"
      },
      "execution_count": 113,
      "outputs": [
        {
          "output_type": "execute_result",
          "data": {
            "text/plain": [
              "[{'def': '學校裡進行教學活動的房間。',\n",
              "  'example': ['如：「實驗教室」、「音樂教室」。'],\n",
              "  'synonyms': '課堂,講堂'}]"
            ]
          },
          "metadata": {},
          "execution_count": 113
        }
      ]
    },
    {
      "cell_type": "code",
      "source": [
        "data['heteronyms'][0]['definitions'][0]"
      ],
      "metadata": {
        "colab": {
          "base_uri": "https://localhost:8080/"
        },
        "id": "hueuXTsTrD53",
        "outputId": "a73f6fe5-9db5-4cea-ea1a-80f887b45eae"
      },
      "execution_count": 114,
      "outputs": [
        {
          "output_type": "execute_result",
          "data": {
            "text/plain": [
              "{'def': '學校裡進行教學活動的房間。', 'example': ['如：「實驗教室」、「音樂教室」。'], 'synonyms': '課堂,講堂'}"
            ]
          },
          "metadata": {},
          "execution_count": 114
        }
      ]
    },
    {
      "cell_type": "code",
      "source": [
        "data['heteronyms'][0]['definitions'][0]['def']"
      ],
      "metadata": {
        "colab": {
          "base_uri": "https://localhost:8080/",
          "height": 167
        },
        "id": "pJsBHTJErGWA",
        "outputId": "57d456b4-4d2d-4d40-b39c-be8197bb05b1"
      },
      "execution_count": 121,
      "outputs": [
        {
          "output_type": "error",
          "ename": "TypeError",
          "evalue": "ignored",
          "traceback": [
            "\u001b[0;31m---------------------------------------------------------------------------\u001b[0m",
            "\u001b[0;31mTypeError\u001b[0m                                 Traceback (most recent call last)",
            "\u001b[0;32m<ipython-input-121-f71e0cdd3eb6>\u001b[0m in \u001b[0;36m<module>\u001b[0;34m()\u001b[0m\n\u001b[0;32m----> 1\u001b[0;31m \u001b[0mdata\u001b[0m\u001b[0;34m[\u001b[0m\u001b[0;34m'heteronyms'\u001b[0m\u001b[0;34m]\u001b[0m\u001b[0;34m[\u001b[0m\u001b[0;36m0\u001b[0m\u001b[0;34m]\u001b[0m\u001b[0;34m[\u001b[0m\u001b[0;34m'definitions'\u001b[0m\u001b[0;34m]\u001b[0m\u001b[0;34m[\u001b[0m\u001b[0;36m0\u001b[0m\u001b[0;34m]\u001b[0m\u001b[0;34m[\u001b[0m\u001b[0;34m'def'\u001b[0m\u001b[0;34m]\u001b[0m\u001b[0;34m\u001b[0m\u001b[0;34m\u001b[0m\u001b[0m\n\u001b[0m",
            "\u001b[0;31mTypeError\u001b[0m: 'method' object is not subscriptable"
          ]
        }
      ]
    },
    {
      "cell_type": "code",
      "source": [
        "data=requests.get(url+\"森林\").json()"
      ],
      "metadata": {
        "id": "gmEcRvhArReg"
      },
      "execution_count": 128,
      "outputs": []
    },
    {
      "cell_type": "code",
      "source": [
        "data['heteronyms'][0]['definitions'][0]['def']"
      ],
      "metadata": {
        "colab": {
          "base_uri": "https://localhost:8080/",
          "height": 35
        },
        "id": "aEYhj7eXrkek",
        "outputId": "209dfcb4-6ea2-42e3-8784-49a023a0a312"
      },
      "execution_count": 129,
      "outputs": [
        {
          "output_type": "execute_result",
          "data": {
            "text/plain": [
              "'樹木密生的寬廣地區。'"
            ],
            "application/vnd.google.colaboratory.intrinsic+json": {
              "type": "string"
            }
          },
          "metadata": {},
          "execution_count": 129
        }
      ]
    },
    {
      "cell_type": "code",
      "source": [
        "def lookup(word):\n",
        "  data = requests.get(url+word).json()\n",
        "  return data['heteronyms'][0]['definitions'][0]['def']"
      ],
      "metadata": {
        "id": "_T9RN9w-sm5R"
      },
      "execution_count": 130,
      "outputs": []
    },
    {
      "cell_type": "code",
      "source": [
        "lookup(\"補習班\")"
      ],
      "metadata": {
        "colab": {
          "base_uri": "https://localhost:8080/",
          "height": 35
        },
        "id": "77AyG_Pmss2X",
        "outputId": "9c79bb17-d46f-4348-88d0-334c14d2fba8"
      },
      "execution_count": 131,
      "outputs": [
        {
          "output_type": "execute_result",
          "data": {
            "text/plain": [
              "'短期補習學校，由學校、機關、團體或私人辦理，分技藝補習班及文理補習班二類；修業期限為一個月至一年六個月不等。'"
            ],
            "application/vnd.google.colaboratory.intrinsic+json": {
              "type": "string"
            }
          },
          "metadata": {},
          "execution_count": 131
        }
      ]
    },
    {
      "cell_type": "code",
      "source": [
        "def loo(word):\n",
        "  data = requests.get(url+word).json()\n",
        "  return data['heteronyms'][0]['definitions'][0]['def']"
      ],
      "metadata": {
        "id": "ZdeG7R39s1-E"
      },
      "execution_count": 132,
      "outputs": []
    },
    {
      "cell_type": "code",
      "source": [
        "loo(\"屁眼\")"
      ],
      "metadata": {
        "colab": {
          "base_uri": "https://localhost:8080/",
          "height": 35
        },
        "id": "ainEdLqGs4-B",
        "outputId": "bf4e2966-21c8-4982-9f23-c0226a17f72f"
      },
      "execution_count": 133,
      "outputs": [
        {
          "output_type": "execute_result",
          "data": {
            "text/plain": [
              "'肛門。'"
            ],
            "application/vnd.google.colaboratory.intrinsic+json": {
              "type": "string"
            }
          },
          "metadata": {},
          "execution_count": 133
        }
      ]
    },
    {
      "cell_type": "code",
      "source": [
        "gradio.Interface(loo, \"text\", \"text\",title=\"判辭典\").launch(share=True)"
      ],
      "metadata": {
        "colab": {
          "base_uri": "https://localhost:8080/",
          "height": 643
        },
        "id": "QwocFhBNtRDr",
        "outputId": "619e6b45-c5aa-4042-cef4-c8b38d5c65b4"
      },
      "execution_count": 134,
      "outputs": [
        {
          "output_type": "stream",
          "name": "stdout",
          "text": [
            "Colab notebook detected. To show errors in colab notebook, set `debug=True` in `launch()`\n",
            "Running on public URL: https://42013.gradio.app\n",
            "\n",
            "This share link expires in 72 hours. For free permanent hosting, check out Spaces (https://huggingface.co/spaces)\n"
          ]
        },
        {
          "output_type": "display_data",
          "data": {
            "text/plain": [
              "<IPython.core.display.HTML object>"
            ],
            "text/html": [
              "<div><iframe src=\"https://42013.gradio.app\" width=\"900\" height=\"500\" allow=\"autoplay; camera; microphone;\" frameborder=\"0\" allowfullscreen></iframe></div>"
            ]
          },
          "metadata": {}
        },
        {
          "output_type": "execute_result",
          "data": {
            "text/plain": [
              "(<gradio.routes.App at 0x7fc52ee8d550>,\n",
              " 'http://127.0.0.1:7865/',\n",
              " 'https://42013.gradio.app')"
            ]
          },
          "metadata": {},
          "execution_count": 134
        }
      ]
    },
    {
      "cell_type": "markdown",
      "source": [
        "## 作業:寫一個漢英字典\n",
        "API網址:https://www.moedict.tw/a/%E8%90%8C.json"
      ],
      "metadata": {
        "id": "ibe4WvETwQZI"
      }
    },
    {
      "cell_type": "code",
      "source": [
        "url = \"https://www.moedict.tw/a/\""
      ],
      "metadata": {
        "id": "RI65LvhQwljY"
      },
      "execution_count": 135,
      "outputs": []
    },
    {
      "cell_type": "code",
      "source": [
        "q=\"教室\""
      ],
      "metadata": {
        "id": "jjFwc4Spwn-x"
      },
      "execution_count": null,
      "outputs": []
    },
    {
      "cell_type": "code",
      "source": [
        "data=requests.get(url+q+\".json\").json()"
      ],
      "metadata": {
        "id": "KKqAG-iDws5q"
      },
      "execution_count": 136,
      "outputs": []
    },
    {
      "cell_type": "code",
      "source": [
        "data"
      ],
      "metadata": {
        "colab": {
          "base_uri": "https://localhost:8080/"
        },
        "id": "N06fg1qUw5XY",
        "outputId": "f2f54ef8-3d1f-4eee-e596-e365b551ebc2"
      },
      "execution_count": 137,
      "outputs": [
        {
          "output_type": "execute_result",
          "data": {
            "text/plain": [
              "{'Deutsch': 'Klassenzimmer  (S)',\n",
              " 'English': 'classroom',\n",
              " 'francais': 'salle de classe',\n",
              " 'h': [{'=': '322500022',\n",
              "   'b': 'ㄐㄧㄠˋ\\u3000ㄕˋ',\n",
              "   'd': [{'e': ['`如~：「`實驗~`教室~」、「`音樂~`教室~」。'],\n",
              "     'f': '`學校~`裡~`進行~`教學~`活動~`的~`房間~。',\n",
              "     's': '`課堂~'}],\n",
              "   'p': 'jiào shì'}],\n",
              " 't': '`教~`室~',\n",
              " 'translation': {'Deutsch': ['Klassenzimmer  (S)'],\n",
              "  'English': ['classroom', 'CL:`間~|间[jian1]'],\n",
              "  'francais': ['salle de classe']}}"
            ]
          },
          "metadata": {},
          "execution_count": 137
        }
      ]
    },
    {
      "cell_type": "markdown",
      "source": [
        "## 分析台北市ubike站點"
      ],
      "metadata": {
        "id": "PdgKfK_Wy-hl"
      }
    },
    {
      "cell_type": "code",
      "source": [
        "url = \"https://tcgbusfs.blob.core.windows.net/dotapp/youbike/v2/youbike_immediate.json\""
      ],
      "metadata": {
        "id": "GTzMEE7kzFMA"
      },
      "execution_count": 138,
      "outputs": []
    },
    {
      "cell_type": "code",
      "source": [
        "data=requests.get(url).json"
      ],
      "metadata": {
        "id": "xbBEnmkNzNL2"
      },
      "execution_count": 141,
      "outputs": []
    },
    {
      "cell_type": "code",
      "source": [
        "type(data)"
      ],
      "metadata": {
        "colab": {
          "base_uri": "https://localhost:8080/"
        },
        "id": "ZTq48B-1zq0_",
        "outputId": "6b01bbab-dfd7-45af-c8e6-ed907bee1c2d"
      },
      "execution_count": 142,
      "outputs": [
        {
          "output_type": "execute_result",
          "data": {
            "text/plain": [
              "method"
            ]
          },
          "metadata": {},
          "execution_count": 142
        }
      ]
    },
    {
      "cell_type": "code",
      "source": [
        "data = requests.get(url).json()"
      ],
      "metadata": {
        "id": "c8ihgyufz_vp"
      },
      "execution_count": 143,
      "outputs": []
    },
    {
      "cell_type": "code",
      "source": [
        "type(data)"
      ],
      "metadata": {
        "id": "tj1inbhu0BwZ"
      },
      "execution_count": null,
      "outputs": []
    },
    {
      "cell_type": "code",
      "source": [
        "data[0]"
      ],
      "metadata": {
        "colab": {
          "base_uri": "https://localhost:8080/"
        },
        "id": "0o63lhqg0NG3",
        "outputId": "9e72d72c-bdf6-4cd8-aef2-7042a52be131"
      },
      "execution_count": 146,
      "outputs": [
        {
          "output_type": "execute_result",
          "data": {
            "text/plain": [
              "{'act': '1',\n",
              " 'ar': '復興南路二段235號前',\n",
              " 'aren': 'No.235， Sec. 2， Fuxing S. Rd.',\n",
              " 'bemp': 29,\n",
              " 'infoDate': '2022-07-09',\n",
              " 'infoTime': '2022-07-09 15:14:04',\n",
              " 'lat': 25.02605,\n",
              " 'lng': 121.5436,\n",
              " 'mday': '2022-07-09 15:14:04',\n",
              " 'sarea': '大安區',\n",
              " 'sareaen': 'Daan Dist.',\n",
              " 'sbi': 0,\n",
              " 'sna': 'YouBike2.0_捷運科技大樓站',\n",
              " 'snaen': 'YouBike2.0_MRT Technology Bldg. Sta.',\n",
              " 'sno': '500101001',\n",
              " 'srcUpdateTime': '2022-07-09 15:14:13',\n",
              " 'tot': 29,\n",
              " 'updateTime': '2022-07-09 15:14:51'}"
            ]
          },
          "metadata": {},
          "execution_count": 146
        }
      ]
    },
    {
      "cell_type": "markdown",
      "source": [
        "##BeautifulSoup使用簡介\n",
        "\n",
        "*要###才能引用多行字串\n",
        "\n"
      ],
      "metadata": {
        "id": "NnvtE0zx0kye"
      }
    },
    {
      "cell_type": "code",
      "source": [
        "page=\"\"\"\n",
        "<!DOCTYPE html>\n",
        "<html>\n",
        "<head>\n",
        "    <title>HTML範例</title>\n",
        "</head>\n",
        "<body>\n",
        "\n",
        "<h1>哈囉！HTML！</h1>\n",
        "\n",
        "<img src=\"ninja.jpg\" />\n",
        "\n",
        "</body>\n",
        "</html>\"\"\""
      ],
      "metadata": {
        "id": "HwPpdQRf0qti"
      },
      "execution_count": 147,
      "outputs": []
    },
    {
      "cell_type": "code",
      "source": [
        "from bs4 import BeautifulSoup"
      ],
      "metadata": {
        "id": "SpYpp8fw1kqF"
      },
      "execution_count": 149,
      "outputs": []
    },
    {
      "cell_type": "code",
      "source": [
        "soup=BeautifulSoup(page)"
      ],
      "metadata": {
        "id": "8OMEqX4R1xFE"
      },
      "execution_count": 150,
      "outputs": []
    },
    {
      "cell_type": "code",
      "source": [
        "soup.title"
      ],
      "metadata": {
        "colab": {
          "base_uri": "https://localhost:8080/"
        },
        "id": "wiolkXye15yj",
        "outputId": "4a90577e-2c3d-4f77-dae6-7d2d2634a26c"
      },
      "execution_count": 153,
      "outputs": [
        {
          "output_type": "execute_result",
          "data": {
            "text/plain": [
              "<title>HTML範例</title>"
            ]
          },
          "metadata": {},
          "execution_count": 153
        }
      ]
    },
    {
      "cell_type": "code",
      "source": [
        "soup.title.text"
      ],
      "metadata": {
        "colab": {
          "base_uri": "https://localhost:8080/",
          "height": 35
        },
        "id": "CRP9i2IP19lM",
        "outputId": "e1e3fa48-4e8d-4a8e-b466-a6277b468f95"
      },
      "execution_count": 154,
      "outputs": [
        {
          "output_type": "execute_result",
          "data": {
            "text/plain": [
              "'HTML範例'"
            ],
            "application/vnd.google.colaboratory.intrinsic+json": {
              "type": "string"
            }
          },
          "metadata": {},
          "execution_count": 154
        }
      ]
    },
    {
      "cell_type": "code",
      "source": [
        "soup.h1.text"
      ],
      "metadata": {
        "colab": {
          "base_uri": "https://localhost:8080/",
          "height": 35
        },
        "id": "kxsZ3QUi2Lcg",
        "outputId": "adddeb65-9893-4d27-99e2-a9c65081cfff"
      },
      "execution_count": 155,
      "outputs": [
        {
          "output_type": "execute_result",
          "data": {
            "text/plain": [
              "'哈囉！HTML！'"
            ],
            "application/vnd.google.colaboratory.intrinsic+json": {
              "type": "string"
            }
          },
          "metadata": {},
          "execution_count": 155
        }
      ]
    }
  ]
}