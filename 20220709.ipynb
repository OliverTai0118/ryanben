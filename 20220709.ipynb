{
  "nbformat": 4,
  "nbformat_minor": 0,
  "metadata": {
    "colab": {
      "name": "20220709.ipynb",
      "provenance": [],
      "authorship_tag": "ABX9TyOBuSWoaxIErged3GH/fUjS",
      "include_colab_link": true
    },
    "kernelspec": {
      "name": "python3",
      "display_name": "Python 3"
    },
    "language_info": {
      "name": "python"
    }
  },
  "cells": [
    {
      "cell_type": "markdown",
      "metadata": {
        "id": "view-in-github",
        "colab_type": "text"
      },
      "source": [
        "<a href=\"https://colab.research.google.com/github/OliverTai0118/ryanben/blob/main/20220709.ipynb\" target=\"_parent\"><img src=\"https://colab.research.google.com/assets/colab-badge.svg\" alt=\"Open In Colab\"/></a>"
      ]
    },
    {
      "cell_type": "code",
      "execution_count": null,
      "metadata": {
        "id": "Ytu75F_efyQf"
      },
      "outputs": [],
      "source": [
        ""
      ]
    },
    {
      "cell_type": "markdown",
      "source": [
        "# 20220709"
      ],
      "metadata": {
        "id": "jzmJ-z9PgOWF"
      }
    },
    {
      "cell_type": "markdown",
      "source": [
        "## 初學者需要知道的概念\n",
        "* 資料型態\n",
        "  *int\n",
        "  *float\n",
        "  *bool\n",
        "  *str\n",
        "* 容器型別\n",
        "  *list  > []\n",
        "  *tuple > ()\n",
        "  *dict > {}\n",
        "  *set >{}\n",
        "*基礎語法\n",
        "  *loop\n",
        "  *functions\n",
        "  *if statements\n",
        "  *exception handling >>例外處理\n"
      ],
      "metadata": {
        "id": "PDU5-FLwgUWO"
      }
    },
    {
      "cell_type": "markdown",
      "source": [
        "# eXtreme Programming\n",
        "\n",
        "**軟體開發的四個變因：**\n",
        "\n",
        "1. 成本 (Cost)\n",
        "\n",
        "2. 時間 (Time)\n",
        "\n",
        "3. 品質 (Quality)\n",
        "\n",
        "4. 範疇 (Scope)\n",
        "\n",
        "**eXtreme Programming的12個核心實踐方式：**\n",
        "\n",
        "1. The Planning Game\n",
        "\n",
        "**2. Small Release**\n",
        "\n",
        "3. System Metaphor\n",
        "\n",
        "4. Simple Design\n",
        "\n",
        "5. Continuous Testing\n",
        "\n",
        "6. Refactoring\n",
        "\n",
        "**7. Pair Programming**\n",
        "\n",
        "8. Collective Code Ownership\n",
        "\n",
        "9. Continuous Integration\n",
        "\n",
        "10. 40-hr Work Week\n",
        "\n",
        "11. On-Site Customer\n",
        "\n",
        "**12. Coding Standards**"
      ],
      "metadata": {
        "id": "HyjGhfk3jjL1"
      }
    },
    {
      "cell_type": "markdown",
      "source": [
        "## for loops\n",
        "back tick\n",
        "```python\n",
        "for 變數 in 資料結構:\n",
        "  程式區塊 (裡面可以使用上面的變數)\n",
        "  "
      ],
      "metadata": {
        "id": "Dcp_1g_lme04"
      }
    },
    {
      "cell_type": "code",
      "source": [
        "#loops:for,while"
      ],
      "metadata": {
        "id": "FiiAasonmXZ3"
      },
      "execution_count": null,
      "outputs": []
    },
    {
      "cell_type": "code",
      "source": [
        "for i in range(3):\n",
        "  print(\"程式區塊開始\")\n",
        "  print(i)\n",
        "  print(\"程式區塊結束\")\n",
        "  "
      ],
      "metadata": {
        "colab": {
          "base_uri": "https://localhost:8080/"
        },
        "id": "4dK8yuspm8hZ",
        "outputId": "b4110f03-ac2e-46cd-b6bb-8e911dbb80db"
      },
      "execution_count": 1,
      "outputs": [
        {
          "output_type": "stream",
          "name": "stdout",
          "text": [
            "程式區塊開始\n",
            "0\n",
            "程式區塊結束\n",
            "程式區塊開始\n",
            "1\n",
            "程式區塊結束\n",
            "程式區塊開始\n",
            "2\n",
            "程式區塊結束\n"
          ]
        }
      ]
    },
    {
      "cell_type": "code",
      "source": [
        "for i in range(3):\n",
        "  print(\"程式區塊開始\")\n",
        "  print(i)\n",
        "print(\"程式區塊結束\")"
      ],
      "metadata": {
        "colab": {
          "base_uri": "https://localhost:8080/"
        },
        "id": "Nep3Hdzmn2SN",
        "outputId": "020047ac-5c8d-45a4-c546-3c3def325747"
      },
      "execution_count": 2,
      "outputs": [
        {
          "output_type": "stream",
          "name": "stdout",
          "text": [
            "程式區塊開始\n",
            "0\n",
            "程式區塊開始\n",
            "1\n",
            "程式區塊開始\n",
            "2\n",
            "程式區塊結束\n"
          ]
        }
      ]
    },
    {
      "cell_type": "markdown",
      "source": [
        "## for loops\n",
        "back tick\n",
        "```python\n",
        "while 條件式:\n",
        "  程式區塊"
      ],
      "metadata": {
        "id": "SfY4WgrRoQIT"
      }
    },
    {
      "cell_type": "code",
      "source": [
        "x=0\n",
        "while x < 10:\n",
        "  print(x)\n",
        "  x=x+1"
      ],
      "metadata": {
        "colab": {
          "base_uri": "https://localhost:8080/"
        },
        "id": "5-DB_2DGocFe",
        "outputId": "03508991-2278-476a-ebdc-fb7a75b00100"
      },
      "execution_count": 4,
      "outputs": [
        {
          "output_type": "stream",
          "name": "stdout",
          "text": [
            "0\n",
            "1\n",
            "2\n",
            "3\n",
            "4\n",
            "5\n",
            "6\n",
            "7\n",
            "8\n",
            "9\n"
          ]
        }
      ]
    },
    {
      "cell_type": "markdown",
      "source": [
        "## 寫一個九九乘法表\n",
        "用for迴圈或while迴圈做做看!\n",
        "巢狀迴圈:nested loops巢狀迴圈:nested loops"
      ],
      "metadata": {
        "id": "LbH8kcNSpgrO"
      }
    },
    {
      "cell_type": "code",
      "source": [
        "for i in range(2,10):\n",
        "  for j in range(1,10):\n",
        "    print (i,\"x\",j,\"=\",i*j)\n"
      ],
      "metadata": {
        "colab": {
          "base_uri": "https://localhost:8080/"
        },
        "id": "_nas0ny7pthF",
        "outputId": "ccb734f9-21ad-4a16-8b29-0016516fbba7"
      },
      "execution_count": 14,
      "outputs": [
        {
          "output_type": "stream",
          "name": "stdout",
          "text": [
            "2 x 1 = 2\n",
            "2 x 2 = 4\n",
            "2 x 3 = 6\n",
            "2 x 4 = 8\n",
            "2 x 5 = 10\n",
            "2 x 6 = 12\n",
            "2 x 7 = 14\n",
            "2 x 8 = 16\n",
            "2 x 9 = 18\n",
            "3 x 1 = 3\n",
            "3 x 2 = 6\n",
            "3 x 3 = 9\n",
            "3 x 4 = 12\n",
            "3 x 5 = 15\n",
            "3 x 6 = 18\n",
            "3 x 7 = 21\n",
            "3 x 8 = 24\n",
            "3 x 9 = 27\n",
            "4 x 1 = 4\n",
            "4 x 2 = 8\n",
            "4 x 3 = 12\n",
            "4 x 4 = 16\n",
            "4 x 5 = 20\n",
            "4 x 6 = 24\n",
            "4 x 7 = 28\n",
            "4 x 8 = 32\n",
            "4 x 9 = 36\n",
            "5 x 1 = 5\n",
            "5 x 2 = 10\n",
            "5 x 3 = 15\n",
            "5 x 4 = 20\n",
            "5 x 5 = 25\n",
            "5 x 6 = 30\n",
            "5 x 7 = 35\n",
            "5 x 8 = 40\n",
            "5 x 9 = 45\n",
            "6 x 1 = 6\n",
            "6 x 2 = 12\n",
            "6 x 3 = 18\n",
            "6 x 4 = 24\n",
            "6 x 5 = 30\n",
            "6 x 6 = 36\n",
            "6 x 7 = 42\n",
            "6 x 8 = 48\n",
            "6 x 9 = 54\n",
            "7 x 1 = 7\n",
            "7 x 2 = 14\n",
            "7 x 3 = 21\n",
            "7 x 4 = 28\n",
            "7 x 5 = 35\n",
            "7 x 6 = 42\n",
            "7 x 7 = 49\n",
            "7 x 8 = 56\n",
            "7 x 9 = 63\n",
            "8 x 1 = 8\n",
            "8 x 2 = 16\n",
            "8 x 3 = 24\n",
            "8 x 4 = 32\n",
            "8 x 5 = 40\n",
            "8 x 6 = 48\n",
            "8 x 7 = 56\n",
            "8 x 8 = 64\n",
            "8 x 9 = 72\n",
            "9 x 1 = 9\n",
            "9 x 2 = 18\n",
            "9 x 3 = 27\n",
            "9 x 4 = 36\n",
            "9 x 5 = 45\n",
            "9 x 6 = 54\n",
            "9 x 7 = 63\n",
            "9 x 8 = 72\n",
            "9 x 9 = 81\n"
          ]
        }
      ]
    },
    {
      "cell_type": "code",
      "source": [
        "list(range(5))"
      ],
      "metadata": {
        "colab": {
          "base_uri": "https://localhost:8080/"
        },
        "id": "O9aXfbIKqKS5",
        "outputId": "b8430fb1-ce37-4118-eeec-8eea8d86faf3"
      },
      "execution_count": 7,
      "outputs": [
        {
          "output_type": "execute_result",
          "data": {
            "text/plain": [
              "[0, 1, 2, 3, 4]"
            ]
          },
          "metadata": {},
          "execution_count": 7
        }
      ]
    },
    {
      "cell_type": "code",
      "source": [
        "list(range(2,10))"
      ],
      "metadata": {
        "colab": {
          "base_uri": "https://localhost:8080/"
        },
        "id": "dSSpQh4JqRhH",
        "outputId": "c7788af5-2fdd-4b3f-9e08-466dee4fc549"
      },
      "execution_count": 8,
      "outputs": [
        {
          "output_type": "execute_result",
          "data": {
            "text/plain": [
              "[2, 3, 4, 5, 6, 7, 8, 9]"
            ]
          },
          "metadata": {},
          "execution_count": 8
        }
      ]
    },
    {
      "cell_type": "code",
      "source": [
        "x=1\n",
        "while x<10:\n",
        "  y=1\n",
        "  x=x+1\n",
        "  while y<10:\n",
        "      print(x,\"X\",y,\"=\",x*y)\n",
        "      y=y+1\n",
        "\n"
      ],
      "metadata": {
        "colab": {
          "base_uri": "https://localhost:8080/"
        },
        "id": "zpZQfgFirMJK",
        "outputId": "b24de76b-52ce-4449-88ee-153e6175a4c2"
      },
      "execution_count": 19,
      "outputs": [
        {
          "output_type": "stream",
          "name": "stdout",
          "text": [
            "2 X 1 = 2\n",
            "2 X 2 = 4\n",
            "2 X 3 = 6\n",
            "2 X 4 = 8\n",
            "2 X 5 = 10\n",
            "2 X 6 = 12\n",
            "2 X 7 = 14\n",
            "2 X 8 = 16\n",
            "2 X 9 = 18\n",
            "3 X 1 = 3\n",
            "3 X 2 = 6\n",
            "3 X 3 = 9\n",
            "3 X 4 = 12\n",
            "3 X 5 = 15\n",
            "3 X 6 = 18\n",
            "3 X 7 = 21\n",
            "3 X 8 = 24\n",
            "3 X 9 = 27\n",
            "4 X 1 = 4\n",
            "4 X 2 = 8\n",
            "4 X 3 = 12\n",
            "4 X 4 = 16\n",
            "4 X 5 = 20\n",
            "4 X 6 = 24\n",
            "4 X 7 = 28\n",
            "4 X 8 = 32\n",
            "4 X 9 = 36\n",
            "5 X 1 = 5\n",
            "5 X 2 = 10\n",
            "5 X 3 = 15\n",
            "5 X 4 = 20\n",
            "5 X 5 = 25\n",
            "5 X 6 = 30\n",
            "5 X 7 = 35\n",
            "5 X 8 = 40\n",
            "5 X 9 = 45\n",
            "6 X 1 = 6\n",
            "6 X 2 = 12\n",
            "6 X 3 = 18\n",
            "6 X 4 = 24\n",
            "6 X 5 = 30\n",
            "6 X 6 = 36\n",
            "6 X 7 = 42\n",
            "6 X 8 = 48\n",
            "6 X 9 = 54\n",
            "7 X 1 = 7\n",
            "7 X 2 = 14\n",
            "7 X 3 = 21\n",
            "7 X 4 = 28\n",
            "7 X 5 = 35\n",
            "7 X 6 = 42\n",
            "7 X 7 = 49\n",
            "7 X 8 = 56\n",
            "7 X 9 = 63\n",
            "8 X 1 = 8\n",
            "8 X 2 = 16\n",
            "8 X 3 = 24\n",
            "8 X 4 = 32\n",
            "8 X 5 = 40\n",
            "8 X 6 = 48\n",
            "8 X 7 = 56\n",
            "8 X 8 = 64\n",
            "8 X 9 = 72\n",
            "9 X 1 = 9\n",
            "9 X 2 = 18\n",
            "9 X 3 = 27\n",
            "9 X 4 = 36\n",
            "9 X 5 = 45\n",
            "9 X 6 = 54\n",
            "9 X 7 = 63\n",
            "9 X 8 = 72\n",
            "9 X 9 = 81\n",
            "10 X 1 = 10\n",
            "10 X 2 = 20\n",
            "10 X 3 = 30\n",
            "10 X 4 = 40\n",
            "10 X 5 = 50\n",
            "10 X 6 = 60\n",
            "10 X 7 = 70\n",
            "10 X 8 = 80\n",
            "10 X 9 = 90\n"
          ]
        }
      ]
    },
    {
      "cell_type": "markdown",
      "source": [
        "# 條件式(if statements)\n",
        "基本語法:\n",
        "語法一\n",
        "使用條件式來決定程式區塊是否被執行\n",
        "```python\n",
        "if 條件式:\n",
        "  程式區塊\n",
        "\n",
        "  語法二\n",
        "  使用條件式來決定執行條件區塊1還是程式區塊2使用條件式來決定執行程式區塊\n",
        "```python\n",
        "if 條件式:\n",
        "  程式區塊1\n",
        "else:\n",
        "  程式區塊2\n",
        "\n",
        "  語法三\n",
        "  使用條件式來決定執行條件區塊1還是程式區塊2還是程式區塊3還是程式區塊3使用條件式來決定執行程式區塊\n",
        "```python\n",
        "if 條件式1:\n",
        "  程式區塊1\n",
        "elif 條件式2:\n",
        "  程式區塊2\n",
        "else:\n",
        "  程式區塊3"
      ],
      "metadata": {
        "id": "mS1BTE8LuUJy"
      }
    }
  ]
}